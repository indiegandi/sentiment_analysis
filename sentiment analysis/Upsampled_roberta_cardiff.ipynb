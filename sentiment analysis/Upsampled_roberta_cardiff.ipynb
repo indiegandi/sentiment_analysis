{
 "cells": [
  {
   "cell_type": "code",
   "execution_count": 7,
   "id": "9e1ce683",
   "metadata": {},
   "outputs": [],
   "source": [
    "import pandas as pd\n",
    "import numpy as np\n",
    "import matplotlib.pyplot as plt\n",
    "import seaborn as sns\n",
    "import mpl_toolkits\n",
    "import time\n",
    "from dateutil import parser\n",
    "import datetime\n",
    "from transformers import pipeline\n",
    "from sklearn.metrics import precision_recall_fscore_support\n",
    "from sklearn.datasets import make_classification\n",
    "from sklearn.metrics import accuracy_score, f1_score, precision_score, recall_score, classification_report, confusion_matrix, roc_auc_score\n",
    "from sklearn.metrics import precision_recall_fscore_support as score"
   ]
  },
  {
   "cell_type": "code",
   "execution_count": 8,
   "id": "665916e9",
   "metadata": {},
   "outputs": [],
   "source": [
    "df = pd.read_csv('upsampled_df.csv', encoding='utf-8')"
   ]
  },
  {
   "cell_type": "code",
   "execution_count": 9,
   "id": "a2a7ab94",
   "metadata": {},
   "outputs": [
    {
     "data": {
      "text/html": [
       "<div>\n",
       "<style scoped>\n",
       "    .dataframe tbody tr th:only-of-type {\n",
       "        vertical-align: middle;\n",
       "    }\n",
       "\n",
       "    .dataframe tbody tr th {\n",
       "        vertical-align: top;\n",
       "    }\n",
       "\n",
       "    .dataframe thead th {\n",
       "        text-align: right;\n",
       "    }\n",
       "</style>\n",
       "<table border=\"1\" class=\"dataframe\">\n",
       "  <thead>\n",
       "    <tr style=\"text-align: right;\">\n",
       "      <th></th>\n",
       "      <th>Unnamed: 0</th>\n",
       "      <th>score</th>\n",
       "      <th>Text</th>\n",
       "      <th>sentiment</th>\n",
       "      <th>Id</th>\n",
       "    </tr>\n",
       "  </thead>\n",
       "  <tbody>\n",
       "    <tr>\n",
       "      <th>0</th>\n",
       "      <td>0</td>\n",
       "      <td>1</td>\n",
       "      <td>ZUKA ZAMA! 🇺🇸🇺🇸🇺🇸❤️🤍💙</td>\n",
       "      <td>Positive</td>\n",
       "      <td>1</td>\n",
       "    </tr>\n",
       "    <tr>\n",
       "      <th>1</th>\n",
       "      <td>1</td>\n",
       "      <td>1</td>\n",
       "      <td>Zip ties!</td>\n",
       "      <td>Positive</td>\n",
       "      <td>2</td>\n",
       "    </tr>\n",
       "    <tr>\n",
       "      <th>2</th>\n",
       "      <td>2</td>\n",
       "      <td>1</td>\n",
       "      <td>Zero sugar options would be nice as well</td>\n",
       "      <td>Positive</td>\n",
       "      <td>3</td>\n",
       "    </tr>\n",
       "    <tr>\n",
       "      <th>3</th>\n",
       "      <td>3</td>\n",
       "      <td>1</td>\n",
       "      <td>Zendaya by cozz ft. J Cole 🐐</td>\n",
       "      <td>Positive</td>\n",
       "      <td>4</td>\n",
       "    </tr>\n",
       "    <tr>\n",
       "      <th>4</th>\n",
       "      <td>4</td>\n",
       "      <td>1</td>\n",
       "      <td>Zayunmmmm who are these people 🥵😍</td>\n",
       "      <td>Positive</td>\n",
       "      <td>5</td>\n",
       "    </tr>\n",
       "  </tbody>\n",
       "</table>\n",
       "</div>"
      ],
      "text/plain": [
       "   Unnamed: 0  score                                      Text sentiment  Id\n",
       "0           0      1                     ZUKA ZAMA! 🇺🇸🇺🇸🇺🇸❤️🤍💙  Positive   1\n",
       "1           1      1                                 Zip ties!  Positive   2\n",
       "2           2      1  Zero sugar options would be nice as well  Positive   3\n",
       "3           3      1              Zendaya by cozz ft. J Cole 🐐  Positive   4\n",
       "4           4      1         Zayunmmmm who are these people 🥵😍  Positive   5"
      ]
     },
     "execution_count": 9,
     "metadata": {},
     "output_type": "execute_result"
    }
   ],
   "source": [
    "df.head()"
   ]
  },
  {
   "cell_type": "code",
   "execution_count": 11,
   "id": "6d5343be",
   "metadata": {},
   "outputs": [],
   "source": [
    "\n",
    "specific_model = pipeline(model=\"cardiffnlp/twitter-roberta-base-sentiment\")\n"
   ]
  },
  {
   "cell_type": "code",
   "execution_count": 4,
   "id": "2a793dc0",
   "metadata": {},
   "outputs": [
    {
     "data": {
      "text/plain": [
       "'LABEL_0'"
      ]
     },
     "execution_count": 4,
     "metadata": {},
     "output_type": "execute_result"
    }
   ],
   "source": [
    "l = specific_model(\"I hate you but I love you\")\n",
    "l[0]['label']"
   ]
  },
  {
   "cell_type": "code",
   "execution_count": 80,
   "id": "18cb49b3",
   "metadata": {},
   "outputs": [],
   "source": [
    "df= df.drop(columns=[ 'Id', 'score'])"
   ]
  },
  {
   "cell_type": "code",
   "execution_count": 81,
   "id": "c3307165",
   "metadata": {},
   "outputs": [
    {
     "data": {
      "text/html": [
       "<div>\n",
       "<style scoped>\n",
       "    .dataframe tbody tr th:only-of-type {\n",
       "        vertical-align: middle;\n",
       "    }\n",
       "\n",
       "    .dataframe tbody tr th {\n",
       "        vertical-align: top;\n",
       "    }\n",
       "\n",
       "    .dataframe thead th {\n",
       "        text-align: right;\n",
       "    }\n",
       "</style>\n",
       "<table border=\"1\" class=\"dataframe\">\n",
       "  <thead>\n",
       "    <tr style=\"text-align: right;\">\n",
       "      <th></th>\n",
       "      <th>Unnamed: 0</th>\n",
       "      <th>Text</th>\n",
       "      <th>sentiment</th>\n",
       "    </tr>\n",
       "  </thead>\n",
       "  <tbody>\n",
       "    <tr>\n",
       "      <th>0</th>\n",
       "      <td>0</td>\n",
       "      <td>ZUKA ZAMA! 🇺🇸🇺🇸🇺🇸❤️🤍💙</td>\n",
       "      <td>Positive</td>\n",
       "    </tr>\n",
       "    <tr>\n",
       "      <th>1</th>\n",
       "      <td>1</td>\n",
       "      <td>Zip ties!</td>\n",
       "      <td>Positive</td>\n",
       "    </tr>\n",
       "    <tr>\n",
       "      <th>2</th>\n",
       "      <td>2</td>\n",
       "      <td>Zero sugar options would be nice as well</td>\n",
       "      <td>Positive</td>\n",
       "    </tr>\n",
       "    <tr>\n",
       "      <th>3</th>\n",
       "      <td>3</td>\n",
       "      <td>Zendaya by cozz ft. J Cole 🐐</td>\n",
       "      <td>Positive</td>\n",
       "    </tr>\n",
       "    <tr>\n",
       "      <th>4</th>\n",
       "      <td>4</td>\n",
       "      <td>Zayunmmmm who are these people 🥵😍</td>\n",
       "      <td>Positive</td>\n",
       "    </tr>\n",
       "  </tbody>\n",
       "</table>\n",
       "</div>"
      ],
      "text/plain": [
       "   Unnamed: 0                                      Text sentiment\n",
       "0           0                     ZUKA ZAMA! 🇺🇸🇺🇸🇺🇸❤️🤍💙  Positive\n",
       "1           1                                 Zip ties!  Positive\n",
       "2           2  Zero sugar options would be nice as well  Positive\n",
       "3           3              Zendaya by cozz ft. J Cole 🐐  Positive\n",
       "4           4         Zayunmmmm who are these people 🥵😍  Positive"
      ]
     },
     "execution_count": 81,
     "metadata": {},
     "output_type": "execute_result"
    }
   ],
   "source": [
    "df.head()"
   ]
  },
  {
   "cell_type": "code",
   "execution_count": 83,
   "id": "81a9c679",
   "metadata": {},
   "outputs": [],
   "source": [
    "result_list = []\n",
    "def sentiment():\n",
    "    for i in range(len(df)):\n",
    "        roberta = df['Text'][i]\n",
    "        result = specific_model(roberta)\n",
    "        result_list.append(result)\n",
    "        \n",
    "sentiment()"
   ]
  },
  {
   "cell_type": "code",
   "execution_count": 85,
   "id": "08fc2eb4",
   "metadata": {},
   "outputs": [],
   "source": [
    "df['roberta_list']=result_list"
   ]
  },
  {
   "cell_type": "code",
   "execution_count": 88,
   "id": "4bd8a84b",
   "metadata": {},
   "outputs": [
    {
     "data": {
      "text/html": [
       "<div>\n",
       "<style scoped>\n",
       "    .dataframe tbody tr th:only-of-type {\n",
       "        vertical-align: middle;\n",
       "    }\n",
       "\n",
       "    .dataframe tbody tr th {\n",
       "        vertical-align: top;\n",
       "    }\n",
       "\n",
       "    .dataframe thead th {\n",
       "        text-align: right;\n",
       "    }\n",
       "</style>\n",
       "<table border=\"1\" class=\"dataframe\">\n",
       "  <thead>\n",
       "    <tr style=\"text-align: right;\">\n",
       "      <th></th>\n",
       "      <th>Unnamed: 0</th>\n",
       "      <th>Text</th>\n",
       "      <th>sentiment</th>\n",
       "      <th>roberta_list</th>\n",
       "      <th>label</th>\n",
       "      <th>score</th>\n",
       "    </tr>\n",
       "  </thead>\n",
       "  <tbody>\n",
       "    <tr>\n",
       "      <th>0</th>\n",
       "      <td>0</td>\n",
       "      <td>ZUKA ZAMA! 🇺🇸🇺🇸🇺🇸❤️🤍💙</td>\n",
       "      <td>Positive</td>\n",
       "      <td>{'label': 'LABEL_2', 'score': 0.9118700623512268}</td>\n",
       "      <td>LABEL_2</td>\n",
       "      <td>0.911870</td>\n",
       "    </tr>\n",
       "    <tr>\n",
       "      <th>1</th>\n",
       "      <td>1</td>\n",
       "      <td>Zip ties!</td>\n",
       "      <td>Positive</td>\n",
       "      <td>{'label': 'LABEL_1', 'score': 0.6396740078926086}</td>\n",
       "      <td>LABEL_1</td>\n",
       "      <td>0.639674</td>\n",
       "    </tr>\n",
       "    <tr>\n",
       "      <th>2</th>\n",
       "      <td>2</td>\n",
       "      <td>Zero sugar options would be nice as well</td>\n",
       "      <td>Positive</td>\n",
       "      <td>{'label': 'LABEL_2', 'score': 0.885388195514679}</td>\n",
       "      <td>LABEL_2</td>\n",
       "      <td>0.885388</td>\n",
       "    </tr>\n",
       "    <tr>\n",
       "      <th>3</th>\n",
       "      <td>3</td>\n",
       "      <td>Zendaya by cozz ft. J Cole 🐐</td>\n",
       "      <td>Positive</td>\n",
       "      <td>{'label': 'LABEL_1', 'score': 0.6681274175643921}</td>\n",
       "      <td>LABEL_1</td>\n",
       "      <td>0.668127</td>\n",
       "    </tr>\n",
       "    <tr>\n",
       "      <th>4</th>\n",
       "      <td>4</td>\n",
       "      <td>Zayunmmmm who are these people 🥵😍</td>\n",
       "      <td>Positive</td>\n",
       "      <td>{'label': 'LABEL_2', 'score': 0.7182900905609131}</td>\n",
       "      <td>LABEL_2</td>\n",
       "      <td>0.718290</td>\n",
       "    </tr>\n",
       "  </tbody>\n",
       "</table>\n",
       "</div>"
      ],
      "text/plain": [
       "   Unnamed: 0                                      Text sentiment  \\\n",
       "0           0                     ZUKA ZAMA! 🇺🇸🇺🇸🇺🇸❤️🤍💙  Positive   \n",
       "1           1                                 Zip ties!  Positive   \n",
       "2           2  Zero sugar options would be nice as well  Positive   \n",
       "3           3              Zendaya by cozz ft. J Cole 🐐  Positive   \n",
       "4           4         Zayunmmmm who are these people 🥵😍  Positive   \n",
       "\n",
       "                                        roberta_list    label     score  \n",
       "0  {'label': 'LABEL_2', 'score': 0.9118700623512268}  LABEL_2  0.911870  \n",
       "1  {'label': 'LABEL_1', 'score': 0.6396740078926086}  LABEL_1  0.639674  \n",
       "2   {'label': 'LABEL_2', 'score': 0.885388195514679}  LABEL_2  0.885388  \n",
       "3  {'label': 'LABEL_1', 'score': 0.6681274175643921}  LABEL_1  0.668127  \n",
       "4  {'label': 'LABEL_2', 'score': 0.7182900905609131}  LABEL_2  0.718290  "
      ]
     },
     "execution_count": 88,
     "metadata": {},
     "output_type": "execute_result"
    }
   ],
   "source": [
    "df.head()"
   ]
  },
  {
   "cell_type": "code",
   "execution_count": 86,
   "id": "b315d113",
   "metadata": {},
   "outputs": [],
   "source": [
    "df['roberta_list']= pd.DataFrame (result_list, columns = ['roberta'])"
   ]
  },
  {
   "cell_type": "code",
   "execution_count": 89,
   "id": "f12fbb4d",
   "metadata": {},
   "outputs": [],
   "source": [
    "df_split = df['roberta_list'].apply(pd.Series)\n",
    "df2 = pd.concat([df_split, df[\"roberta_list\"].apply(pd.Series)], axis=1)\n",
    "df['label']=df_split['label']\n",
    "df['score']=df_split['score']\n",
    "df=df[['Text','sentiment', 'label','score']]"
   ]
  },
  {
   "cell_type": "code",
   "execution_count": 93,
   "id": "fbacaa72",
   "metadata": {},
   "outputs": [],
   "source": [
    "## roberta labels without neutral class\n",
    "def label_detect(l):\n",
    "    if l == 'LABEL_0':\n",
    "        return 'Negative'\n",
    "    else:\n",
    "        return 'Positive'"
   ]
  },
  {
   "cell_type": "code",
   "execution_count": 94,
   "id": "e0e0c54b",
   "metadata": {},
   "outputs": [
    {
     "data": {
      "text/html": [
       "<div>\n",
       "<style scoped>\n",
       "    .dataframe tbody tr th:only-of-type {\n",
       "        vertical-align: middle;\n",
       "    }\n",
       "\n",
       "    .dataframe tbody tr th {\n",
       "        vertical-align: top;\n",
       "    }\n",
       "\n",
       "    .dataframe thead th {\n",
       "        text-align: right;\n",
       "    }\n",
       "</style>\n",
       "<table border=\"1\" class=\"dataframe\">\n",
       "  <thead>\n",
       "    <tr style=\"text-align: right;\">\n",
       "      <th></th>\n",
       "      <th>Text</th>\n",
       "      <th>sentiment</th>\n",
       "      <th>label</th>\n",
       "      <th>score</th>\n",
       "      <th>roberta_labels</th>\n",
       "    </tr>\n",
       "  </thead>\n",
       "  <tbody>\n",
       "    <tr>\n",
       "      <th>0</th>\n",
       "      <td>ZUKA ZAMA! 🇺🇸🇺🇸🇺🇸❤️🤍💙</td>\n",
       "      <td>Positive</td>\n",
       "      <td>LABEL_2</td>\n",
       "      <td>0.911870</td>\n",
       "      <td>Positive</td>\n",
       "    </tr>\n",
       "    <tr>\n",
       "      <th>1</th>\n",
       "      <td>Zip ties!</td>\n",
       "      <td>Positive</td>\n",
       "      <td>LABEL_1</td>\n",
       "      <td>0.639674</td>\n",
       "      <td>Positive</td>\n",
       "    </tr>\n",
       "    <tr>\n",
       "      <th>2</th>\n",
       "      <td>Zero sugar options would be nice as well</td>\n",
       "      <td>Positive</td>\n",
       "      <td>LABEL_2</td>\n",
       "      <td>0.885388</td>\n",
       "      <td>Positive</td>\n",
       "    </tr>\n",
       "    <tr>\n",
       "      <th>3</th>\n",
       "      <td>Zendaya by cozz ft. J Cole 🐐</td>\n",
       "      <td>Positive</td>\n",
       "      <td>LABEL_1</td>\n",
       "      <td>0.668127</td>\n",
       "      <td>Positive</td>\n",
       "    </tr>\n",
       "    <tr>\n",
       "      <th>4</th>\n",
       "      <td>Zayunmmmm who are these people 🥵😍</td>\n",
       "      <td>Positive</td>\n",
       "      <td>LABEL_2</td>\n",
       "      <td>0.718290</td>\n",
       "      <td>Positive</td>\n",
       "    </tr>\n",
       "  </tbody>\n",
       "</table>\n",
       "</div>"
      ],
      "text/plain": [
       "                                       Text sentiment    label     score  \\\n",
       "0                     ZUKA ZAMA! 🇺🇸🇺🇸🇺🇸❤️🤍💙  Positive  LABEL_2  0.911870   \n",
       "1                                 Zip ties!  Positive  LABEL_1  0.639674   \n",
       "2  Zero sugar options would be nice as well  Positive  LABEL_2  0.885388   \n",
       "3              Zendaya by cozz ft. J Cole 🐐  Positive  LABEL_1  0.668127   \n",
       "4         Zayunmmmm who are these people 🥵😍  Positive  LABEL_2  0.718290   \n",
       "\n",
       "  roberta_labels  \n",
       "0       Positive  \n",
       "1       Positive  \n",
       "2       Positive  \n",
       "3       Positive  \n",
       "4       Positive  "
      ]
     },
     "execution_count": 94,
     "metadata": {},
     "output_type": "execute_result"
    }
   ],
   "source": [
    "df.head()"
   ]
  },
  {
   "cell_type": "code",
   "execution_count": 95,
   "id": "b7f83c70",
   "metadata": {},
   "outputs": [
    {
     "name": "stderr",
     "output_type": "stream",
     "text": [
      "/var/folders/lv/vs66hkx54hx22vp47_cc75wh0000gn/T/ipykernel_18337/3340709759.py:1: SettingWithCopyWarning: \n",
      "A value is trying to be set on a copy of a slice from a DataFrame.\n",
      "Try using .loc[row_indexer,col_indexer] = value instead\n",
      "\n",
      "See the caveats in the documentation: https://pandas.pydata.org/pandas-docs/stable/user_guide/indexing.html#returning-a-view-versus-a-copy\n",
      "  df['roberta_labels'] =df['label'].apply(label_detect)\n"
     ]
    }
   ],
   "source": [
    "df['roberta_labels'] =df['label'].apply(label_detect)"
   ]
  },
  {
   "cell_type": "code",
   "execution_count": 96,
   "id": "462fe281",
   "metadata": {},
   "outputs": [
    {
     "data": {
      "text/plain": [
       "<bound method NDFrame.head of                                                     Text sentiment    label  \\\n",
       "0                                  ZUKA ZAMA! 🇺🇸🇺🇸🇺🇸❤️🤍💙  Positive  LABEL_2   \n",
       "1                                              Zip ties!  Positive  LABEL_1   \n",
       "2               Zero sugar options would be nice as well  Positive  LABEL_2   \n",
       "3                           Zendaya by cozz ft. J Cole 🐐  Positive  LABEL_1   \n",
       "4                      Zayunmmmm who are these people 🥵😍  Positive  LABEL_2   \n",
       "...                                                  ...       ...      ...   \n",
       "55583  You probably  need to come clock tour self out...  Negative  LABEL_1   \n",
       "55584                                i can't work today   Negative  LABEL_0   \n",
       "55585  It posted just now I posted this when it first...  Negative  LABEL_1   \n",
       "55586  I'm not going to be in town for my shift on th...  Negative  LABEL_1   \n",
       "55587                         that other schedule? fake.  Negative  LABEL_0   \n",
       "\n",
       "          score roberta_labels  \n",
       "0      0.911870       Positive  \n",
       "1      0.639674       Positive  \n",
       "2      0.885388       Positive  \n",
       "3      0.668127       Positive  \n",
       "4      0.718290       Positive  \n",
       "...         ...            ...  \n",
       "55583  0.823372       Positive  \n",
       "55584  0.794216       Negative  \n",
       "55585  0.645838       Positive  \n",
       "55586  0.531924       Positive  \n",
       "55587  0.763571       Negative  \n",
       "\n",
       "[55588 rows x 5 columns]>"
      ]
     },
     "execution_count": 96,
     "metadata": {},
     "output_type": "execute_result"
    }
   ],
   "source": [
    "df.head"
   ]
  },
  {
   "cell_type": "code",
   "execution_count": 97,
   "id": "6f050a79",
   "metadata": {},
   "outputs": [],
   "source": [
    "y_test= df['sentiment']\n",
    "y_pred= df['roberta_labels']\n"
   ]
  },
  {
   "cell_type": "code",
   "execution_count": 98,
   "id": "96de3c11",
   "metadata": {},
   "outputs": [],
   "source": [
    "import numpy as np\n",
    "import matplotlib.pyplot as plt\n",
    "import seaborn as sns\n",
    "\n",
    "def make_confusion_matrix(cf,\n",
    "                          group_names=None,\n",
    "                          categories='auto',\n",
    "                          count=True,\n",
    "                          percent=True,\n",
    "                          cbar=True,\n",
    "                          xyticks=True,\n",
    "                          xyplotlabels=True,\n",
    "                          sum_stats=True,\n",
    "                          figsize=None,\n",
    "                          cmap='Blues',\n",
    "                          title=None):\n",
    "    '''\n",
    "    This function will make a pretty plot of an sklearn Confusion Matrix cm using a Seaborn heatmap visualization.\n",
    "    Arguments\n",
    "    ---------\n",
    "    cf:            confusion matrix to be passed in\n",
    "    group_names:   List of strings that represent the labels row by row to be shown in each square.\n",
    "    categories:    List of strings containing the categories to be displayed on the x,y axis. Default is 'auto'\n",
    "    count:         If True, show the raw number in the confusion matrix. Default is True.\n",
    "    normalize:     If True, show the proportions for each category. Default is True.\n",
    "    cbar:          If True, show the color bar. The cbar values are based off the values in the confusion matrix.\n",
    "                   Default is True.\n",
    "    xyticks:       If True, show x and y ticks. Default is True.\n",
    "    xyplotlabels:  If True, show 'True Label' and 'Predicted Label' on the figure. Default is True.\n",
    "    sum_stats:     If True, display summary statistics below the figure. Default is True.\n",
    "    figsize:       Tuple representing the figure size. Default will be the matplotlib rcParams value.\n",
    "    cmap:          Colormap of the values displayed from matplotlib.pyplot.cm. Default is 'Blues'\n",
    "                   See http://matplotlib.org/examples/color/colormaps_reference.html\n",
    "                   \n",
    "    title:         Title for the heatmap. Default is None.\n",
    "    '''\n",
    "\n",
    "\n",
    "    # CODE TO GENERATE TEXT INSIDE EACH SQUARE\n",
    "    blanks = ['' for i in range(cf.size)]\n",
    "\n",
    "    if group_names and len(group_names)==cf.size:\n",
    "        group_labels = [\"{}\\n\".format(value) for value in group_names]\n",
    "    else:\n",
    "        group_labels = blanks\n",
    "\n",
    "    if count:\n",
    "        group_counts = [\"{0:0.0f}\\n\".format(value) for value in cf.flatten()]\n",
    "    else:\n",
    "        group_counts = blanks\n",
    "\n",
    "\n",
    "    box_labels = [f\"{v1}{v2}\".strip() for v1, v2 in zip(group_labels,group_counts)]\n",
    "    box_labels = np.asarray(box_labels).reshape(cf.shape[0],cf.shape[1])\n",
    "\n",
    "\n",
    "    # CODE TO GENERATE SUMMARY STATISTICS & TEXT FOR SUMMARY STATS\n",
    "    if sum_stats:\n",
    "        #Accuracy is sum of diagonal divided by total observations\n",
    "        accuracy  = np.trace(cf) / float(np.sum(cf))\n",
    "\n",
    "        #if it is a binary confusion matrix, show some more stats\n",
    "        if len(cf)==2:\n",
    "            #Metrics for Binary Confusion Matrices\n",
    "            precision = cf[1,1] / sum(cf[:,1])\n",
    "            recall    = cf[1,1] / sum(cf[1,:])\n",
    "            f1_score  = 2*precision*recall / (precision + recall)\n",
    "            stats_text = \"\\n\\nAccuracy={:0.3f}\\nPrecision={:0.3f}\\nRecall={:0.3f}\\nF1 Score={:0.3f}\".format(\n",
    "                accuracy,precision,recall,f1_score)\n",
    "        else:\n",
    "            stats_text = \"\\n\\nAccuracy={:0.3f}\".format(accuracy)\n",
    "    else:\n",
    "        stats_text = \"\"\n",
    "\n",
    "\n",
    "    # SET FIGURE PARAMETERS ACCORDING TO OTHER ARGUMENTS\n",
    "    if figsize==None:\n",
    "        #Get default figure size if not set\n",
    "        figsize = plt.rcParams.get('figure.figsize')\n",
    "\n",
    "    if xyticks==False:\n",
    "        #Do not show categories if xyticks is False\n",
    "        categories=False\n",
    "\n",
    "\n",
    "    # MAKE THE HEATMAP VISUALIZATION\n",
    "    plt.figure(figsize=figsize)\n",
    "    sns.heatmap(cf,annot=box_labels,fmt=\"\",cmap='Blues',cbar=cbar,xticklabels=categories,yticklabels=categories)\n",
    "\n",
    "    if xyplotlabels:\n",
    "        plt.ylabel('True label')\n",
    "        plt.xlabel('Predicted label' + stats_text)\n",
    "    else:\n",
    "        plt.xlabel(stats_text)\n",
    "    \n",
    "    if title:\n",
    "        plt.title(title)\n",
    "\n",
    "\n"
   ]
  },
  {
   "cell_type": "code",
   "execution_count": 99,
   "id": "9ad53089",
   "metadata": {},
   "outputs": [
    {
     "name": "stdout",
     "output_type": "stream",
     "text": [
      "[[20684  7110]\n",
      " [  791 27003]]\n"
     ]
    }
   ],
   "source": [
    "from sklearn import metrics\n",
    "import seaborn as sns\n",
    "from sklearn.metrics import confusion_matrix\n",
    "\n",
    "#Get the confusion matrix\n",
    "cf_matrix = confusion_matrix(y_test, y_pred)\n",
    "print(cf_matrix)\n"
   ]
  },
  {
   "cell_type": "code",
   "execution_count": 100,
   "id": "612d389c",
   "metadata": {},
   "outputs": [
    {
     "name": "stdout",
     "output_type": "stream",
     "text": [
      "0.8560042731612619\n",
      "0.8773707660020706\n",
      "0.8578650068360077\n"
     ]
    }
   ],
   "source": [
    "print(f1_score(df['sentiment'],df['roberta_labels'], average=\"macro\"))\n",
    "print(precision_score(df['sentiment'],df['roberta_labels'], average=\"macro\"))\n",
    "print(recall_score(df['sentiment'],df['roberta_labels'], average=\"macro\")) "
   ]
  },
  {
   "cell_type": "code",
   "execution_count": 101,
   "id": "a229bace",
   "metadata": {},
   "outputs": [
    {
     "name": "stdout",
     "output_type": "stream",
     "text": [
      "precision: [0.96316647 0.79157506]\n",
      "recall: [0.74418939 0.97154062]\n",
      "fscore: [0.83963547 0.87237308]\n",
      "support: [27794 27794]\n"
     ]
    },
    {
     "data": {
      "text/plain": [
       "0.8560042731612619"
      ]
     },
     "execution_count": 101,
     "metadata": {},
     "output_type": "execute_result"
    }
   ],
   "source": [
    "precision, recall, fscore, support = score(df['sentiment'],df['roberta_labels'])\n",
    "\n",
    "print('precision: {}'.format(precision))\n",
    "print('recall: {}'.format(recall))\n",
    "print('fscore: {}'.format(fscore))\n",
    "print('support: {}'.format(support))\n",
    "f1_score(df['sentiment'],df['roberta_labels'] ,average='weighted')\n"
   ]
  },
  {
   "cell_type": "code",
   "execution_count": 106,
   "id": "948b7d2e",
   "metadata": {},
   "outputs": [
    {
     "name": "stdout",
     "output_type": "stream",
     "text": [
      "              precision    recall  f1-score   support\n",
      "\n",
      "    Negative       0.96      0.74      0.84     27794\n",
      "    Positive       0.79      0.97      0.87     27794\n",
      "\n",
      "    accuracy                           0.86     55588\n",
      "   macro avg       0.88      0.86      0.86     55588\n",
      "weighted avg       0.88      0.86      0.86     55588\n",
      "\n"
     ]
    }
   ],
   "source": [
    "from sklearn.metrics import *\n",
    "#Checking performance our model with classification report\n",
    "print(classification_report(df['sentiment'],df['roberta_labels']))\n"
   ]
  },
  {
   "cell_type": "code",
   "execution_count": 103,
   "id": "a8bf34b8",
   "metadata": {},
   "outputs": [
    {
     "data": {
      "image/png": "[encoded data removed]",
      "text/plain": [
       "<Figure size 640x480 with 2 Axes>"
      ]
     },
     "metadata": {},
     "output_type": "display_data"
    }
   ],
   "source": [
    "labels = ['TN','FP','FN','TP']\n",
    "categories = [\"0\", \"1\"]\n",
    "make_confusion_matrix(cf_matrix, \n",
    "                      group_names=labels,\n",
    "                      categories=categories, \n",
    "                      cmap='binary')"
   ]
  },
  {
   "cell_type": "code",
   "execution_count": 38,
   "id": "9753ab16",
   "metadata": {},
   "outputs": [],
   "source": [
    "#df.to_csv('robertadf_upsampled.csv',index=False)"
   ]
  },
  {
   "cell_type": "code",
   "execution_count": 105,
   "id": "159e8132",
   "metadata": {},
   "outputs": [
    {
     "data": {
      "text/plain": [
       "roberta_labels\n",
       "Positive    34113\n",
       "Negative    21475\n",
       "dtype: int64"
      ]
     },
     "execution_count": 105,
     "metadata": {},
     "output_type": "execute_result"
    }
   ],
   "source": [
    "df.value_counts('roberta_labels')"
   ]
  }
 ],
 "metadata": {
  "kernelspec": {
   "display_name": "Python 3 (ipykernel)",
   "language": "python",
   "name": "python3"
  },
  "language_info": {
   "codemirror_mode": {
    "name": "ipython",
    "version": 3
   },
   "file_extension": ".py",
   "mimetype": "text/x-python",
   "name": "python",
   "nbconvert_exporter": "python",
   "pygments_lexer": "ipython3",
   "version": "3.9.12"
  }
 },
 "nbformat": 4,
 "nbformat_minor": 5
}

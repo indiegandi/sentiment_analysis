{
 "cells": [
  {
   "cell_type": "markdown",
   "id": "paperback-edition",
   "metadata": {
    "papermill": {
     "duration": 0.030117,
     "end_time": "2021-06-20T10:34:45.361886",
     "exception": false,
     "start_time": "2021-06-20T10:34:45.331769",
     "status": "completed"
    },
    "tags": []
   },
   "source": [
    "## Importing Library"
   ]
  },
  {
   "cell_type": "code",
   "execution_count": 1,
   "id": "brave-ideal",
   "metadata": {
    "execution": {
     "iopub.execute_input": "2021-06-20T10:34:45.417852Z",
     "iopub.status.busy": "2021-06-20T10:34:45.416041Z",
     "iopub.status.idle": "2021-06-20T10:34:52.040249Z",
     "shell.execute_reply": "2021-06-20T10:34:52.040762Z"
    },
    "papermill": {
     "duration": 6.653263,
     "end_time": "2021-06-20T10:34:52.041048",
     "exception": false,
     "start_time": "2021-06-20T10:34:45.387785",
     "status": "completed"
    },
    "scrolled": true,
    "tags": []
   },
   "outputs": [
    {
     "data": {
      "text/html": [
       "<div>\n",
       "<style scoped>\n",
       "    .dataframe tbody tr th:only-of-type {\n",
       "        vertical-align: middle;\n",
       "    }\n",
       "\n",
       "    .dataframe tbody tr th {\n",
       "        vertical-align: top;\n",
       "    }\n",
       "\n",
       "    .dataframe thead th {\n",
       "        text-align: right;\n",
       "    }\n",
       "</style>\n",
       "<table border=\"1\" class=\"dataframe\">\n",
       "  <thead>\n",
       "    <tr style=\"text-align: right;\">\n",
       "      <th></th>\n",
       "      <th>Unnamed: 0</th>\n",
       "      <th>score</th>\n",
       "      <th>Text</th>\n",
       "      <th>sentiment</th>\n",
       "      <th>Id</th>\n",
       "    </tr>\n",
       "  </thead>\n",
       "  <tbody>\n",
       "    <tr>\n",
       "      <th>0</th>\n",
       "      <td>0</td>\n",
       "      <td>1</td>\n",
       "      <td>ZUKA ZAMA! 🇺🇸🇺🇸🇺🇸❤️🤍💙</td>\n",
       "      <td>Positive</td>\n",
       "      <td>1</td>\n",
       "    </tr>\n",
       "    <tr>\n",
       "      <th>1</th>\n",
       "      <td>1</td>\n",
       "      <td>1</td>\n",
       "      <td>Zip ties!</td>\n",
       "      <td>Positive</td>\n",
       "      <td>2</td>\n",
       "    </tr>\n",
       "    <tr>\n",
       "      <th>2</th>\n",
       "      <td>2</td>\n",
       "      <td>1</td>\n",
       "      <td>Zero sugar options would be nice as well</td>\n",
       "      <td>Positive</td>\n",
       "      <td>3</td>\n",
       "    </tr>\n",
       "    <tr>\n",
       "      <th>3</th>\n",
       "      <td>3</td>\n",
       "      <td>1</td>\n",
       "      <td>Zendaya by cozz ft. J Cole 🐐</td>\n",
       "      <td>Positive</td>\n",
       "      <td>4</td>\n",
       "    </tr>\n",
       "    <tr>\n",
       "      <th>4</th>\n",
       "      <td>4</td>\n",
       "      <td>1</td>\n",
       "      <td>Zayunmmmm who are these people 🥵😍</td>\n",
       "      <td>Positive</td>\n",
       "      <td>5</td>\n",
       "    </tr>\n",
       "    <tr>\n",
       "      <th>...</th>\n",
       "      <td>...</td>\n",
       "      <td>...</td>\n",
       "      <td>...</td>\n",
       "      <td>...</td>\n",
       "      <td>...</td>\n",
       "    </tr>\n",
       "    <tr>\n",
       "      <th>55583</th>\n",
       "      <td>271</td>\n",
       "      <td>0</td>\n",
       "      <td>You probably  need to come clock tour self out...</td>\n",
       "      <td>Negative</td>\n",
       "      <td>272</td>\n",
       "    </tr>\n",
       "    <tr>\n",
       "      <th>55584</th>\n",
       "      <td>17192</td>\n",
       "      <td>0</td>\n",
       "      <td>i can't work today</td>\n",
       "      <td>Negative</td>\n",
       "      <td>17193</td>\n",
       "    </tr>\n",
       "    <tr>\n",
       "      <th>55585</th>\n",
       "      <td>13309</td>\n",
       "      <td>0</td>\n",
       "      <td>It posted just now I posted this when it first...</td>\n",
       "      <td>Negative</td>\n",
       "      <td>13310</td>\n",
       "    </tr>\n",
       "    <tr>\n",
       "      <th>55586</th>\n",
       "      <td>14842</td>\n",
       "      <td>0</td>\n",
       "      <td>I'm not going to be in town for my shift on th...</td>\n",
       "      <td>Negative</td>\n",
       "      <td>14843</td>\n",
       "    </tr>\n",
       "    <tr>\n",
       "      <th>55587</th>\n",
       "      <td>4846</td>\n",
       "      <td>0</td>\n",
       "      <td>that other schedule? fake.</td>\n",
       "      <td>Negative</td>\n",
       "      <td>4847</td>\n",
       "    </tr>\n",
       "  </tbody>\n",
       "</table>\n",
       "<p>55588 rows × 5 columns</p>\n",
       "</div>"
      ],
      "text/plain": [
       "       Unnamed: 0  score                                               Text  \\\n",
       "0               0      1                              ZUKA ZAMA! 🇺🇸🇺🇸🇺🇸❤️🤍💙   \n",
       "1               1      1                                          Zip ties!   \n",
       "2               2      1           Zero sugar options would be nice as well   \n",
       "3               3      1                       Zendaya by cozz ft. J Cole 🐐   \n",
       "4               4      1                  Zayunmmmm who are these people 🥵😍   \n",
       "...           ...    ...                                                ...   \n",
       "55583         271      0  You probably  need to come clock tour self out...   \n",
       "55584       17192      0                                i can't work today    \n",
       "55585       13309      0  It posted just now I posted this when it first...   \n",
       "55586       14842      0  I'm not going to be in town for my shift on th...   \n",
       "55587        4846      0                         that other schedule? fake.   \n",
       "\n",
       "      sentiment     Id  \n",
       "0      Positive      1  \n",
       "1      Positive      2  \n",
       "2      Positive      3  \n",
       "3      Positive      4  \n",
       "4      Positive      5  \n",
       "...         ...    ...  \n",
       "55583  Negative    272  \n",
       "55584  Negative  17193  \n",
       "55585  Negative  13310  \n",
       "55586  Negative  14843  \n",
       "55587  Negative   4847  \n",
       "\n",
       "[55588 rows x 5 columns]"
      ]
     },
     "execution_count": 1,
     "metadata": {},
     "output_type": "execute_result"
    }
   ],
   "source": [
    "import pandas as pd\n",
    "import numpy as np\n",
    "import matplotlib as nlp\n",
    "df=pd.read_csv('upsampled_df.csv',encoding='utf-8' \n",
    "                   )\n",
    "df"
   ]
  },
  {
   "cell_type": "code",
   "execution_count": 2,
   "id": "assisted-fields",
   "metadata": {
    "execution": {
     "iopub.execute_input": "2021-06-20T10:34:53.470740Z",
     "iopub.status.busy": "2021-06-20T10:34:53.469709Z",
     "iopub.status.idle": "2021-06-20T10:34:53.476391Z",
     "shell.execute_reply": "2021-06-20T10:34:53.475734Z"
    },
    "papermill": {
     "duration": 0.039405,
     "end_time": "2021-06-20T10:34:53.476544",
     "exception": false,
     "start_time": "2021-06-20T10:34:53.437139",
     "status": "completed"
    },
    "tags": []
   },
   "outputs": [
    {
     "data": {
      "text/plain": [
       "array([1, 0])"
      ]
     },
     "execution_count": 2,
     "metadata": {},
     "output_type": "execute_result"
    }
   ],
   "source": [
    "df['score'].unique()"
   ]
  },
  {
   "cell_type": "code",
   "execution_count": 3,
   "id": "catholic-movement",
   "metadata": {
    "execution": {
     "iopub.execute_input": "2021-06-20T10:34:54.089297Z",
     "iopub.status.busy": "2021-06-20T10:34:54.088718Z",
     "iopub.status.idle": "2021-06-20T10:34:54.137601Z",
     "shell.execute_reply": "2021-06-20T10:34:54.138066Z"
    },
    "papermill": {
     "duration": 0.080202,
     "end_time": "2021-06-20T10:34:54.138248",
     "exception": false,
     "start_time": "2021-06-20T10:34:54.058046",
     "status": "completed"
    },
    "tags": []
   },
   "outputs": [],
   "source": [
    "#converting pandas object to a string type\n",
    "df['Text'] = df['Text'].astype('str')\n",
    "df['score'] = df['score'].astype('category')"
   ]
  },
  {
   "cell_type": "markdown",
   "id": "generous-separation",
   "metadata": {
    "papermill": {
     "duration": 0.02759,
     "end_time": "2021-06-20T10:34:54.193182",
     "exception": false,
     "start_time": "2021-06-20T10:34:54.165592",
     "status": "completed"
    },
    "tags": []
   },
   "source": [
    "## Check the number of positive vs. negative tagged sentences"
   ]
  },
  {
   "cell_type": "code",
   "execution_count": 4,
   "id": "straight-boards",
   "metadata": {
    "execution": {
     "iopub.execute_input": "2021-06-20T10:34:54.253191Z",
     "iopub.status.busy": "2021-06-20T10:34:54.252505Z",
     "iopub.status.idle": "2021-06-20T10:34:54.270606Z",
     "shell.execute_reply": "2021-06-20T10:34:54.270091Z"
    },
    "papermill": {
     "duration": 0.048133,
     "end_time": "2021-06-20T10:34:54.270744",
     "exception": false,
     "start_time": "2021-06-20T10:34:54.222611",
     "status": "completed"
    },
    "tags": []
   },
   "outputs": [
    {
     "name": "stdout",
     "output_type": "stream",
     "text": [
      "Total length of the data is:         55588\n",
      "No. of positve tagged sentences is:  27794\n",
      "No. of negative tagged sentences is: 27794\n"
     ]
    }
   ],
   "source": [
    "positives = df['score'][df.score == 1 ]\n",
    "negatives = df['score'][df.score == 0 ]\n",
    "\n",
    "print('Total length of the data is:         {}'.format(df.shape[0]))\n",
    "print('No. of positve tagged sentences is:  {}'.format(len(positives)))\n",
    "print('No. of negative tagged sentences is: {}'.format(len(negatives)))"
   ]
  },
  {
   "cell_type": "code",
   "execution_count": 5,
   "id": "84c87256",
   "metadata": {},
   "outputs": [
    {
     "name": "stdout",
     "output_type": "stream",
     "text": [
      "['i', 'me', 'my', 'myself', 'we', 'our', 'ours', 'ourselves', 'you', \"you're\", \"you've\", \"you'll\", \"you'd\", 'your', 'yours', 'yourself', 'yourselves', 'he', 'him', 'his', 'himself', 'she', \"she's\", 'her', 'hers', 'herself', 'it', \"it's\", 'its', 'itself', 'they', 'them', 'their', 'theirs', 'themselves', 'what', 'which', 'who', 'whom', 'this', 'that', \"that'll\", 'these', 'those', 'am', 'is', 'are', 'was', 'were', 'be', 'been', 'being', 'have', 'has', 'had', 'do', 'does', 'did', 'doing', 'a', 'an', 'the', 'and', 'if', 'or', 'because', 'as', 'until', 'while', 'of', 'at', 'by', 'for', 'with', 'about', 'against', 'between', 'into', 'through', 'during', 'before', 'after', 'above', 'below', 'to', 'from', 'up', 'down', 'in', 'out', 'on', 'off', 'over', 'under', 'again', 'further', 'then', 'once', 'here', 'there', 'when', 'where', 'why', 'how', 'all', 'any', 'both', 'each', 'few', 'more', 'most', 'other', 'some', 'such', 'no', 'only', 'own', 'same', 'so', 'than', 'too', 'very', 's', 't', 'can', 'will', 'just', 'should', \"should've\", 'now', 'd', 'll', 'm', 'o', 're', 've', 'y', 'ain', 'hadn', 'ma', \"mightn't\", 'mustn', 'needn', \"needn't\", 'shan', \"shan't\", 'weren', 'won', 'wouldn']\n"
     ]
    }
   ],
   "source": [
    "from nltk.corpus import stopwords \n",
    "\n",
    "custom=[\"hasn't\",\"won't\",'having', 'but', 'couldn',\n",
    "                       'wasn','shouldn',\"hadn't\", \"doesn't\", 'hasn','mightn',\n",
    "                       \"couldn't\", 'aren',\"aren't\",'didn',\"mustn't\", 'nor',\"haven't\", \"isn't\",  'isn',\n",
    "                       \"don't\", \"wasn't\", \"shouldn't\", 'doesn',\"didn't\",\n",
    "                       'not',\"weren't\", \"wouldn't\", 'don', 'haven']\n",
    "\n",
    "new_list= [x for x in stopwords.words('english') if x not in custom]\n",
    "print(new_list) "
   ]
  },
  {
   "cell_type": "code",
   "execution_count": 6,
   "id": "complicated-necklace",
   "metadata": {
    "execution": {
     "iopub.execute_input": "2021-06-20T10:34:54.332860Z",
     "iopub.status.busy": "2021-06-20T10:34:54.332017Z",
     "iopub.status.idle": "2021-06-20T10:34:55.867092Z",
     "shell.execute_reply": "2021-06-20T10:34:55.868087Z"
    },
    "papermill": {
     "duration": 1.569549,
     "end_time": "2021-06-20T10:34:55.868405",
     "exception": false,
     "start_time": "2021-06-20T10:34:54.298856",
     "status": "completed"
    },
    "tags": []
   },
   "outputs": [
    {
     "name": "stdout",
     "output_type": "stream",
     "text": [
      "{'was', 'further', 're', 'were', \"you've\", 's', 'ma', 'on', 'his', 'by', 'all', 'hers', 'herself', 'theirs', 'an', 'such', 'while', 'ours', 'of', 'as', 'before', 'are', 'll', 'some', 'each', 'themselves', 'myself', \"you'll\", 'its', 'should', 'there', 'that', 'yourselves', 'own', 'up', 'y', 'against', 'no', 'both', 'itself', 'can', 'do', 'their', 'here', 'from', 'your', 'until', 'same', 'them', 'off', 'then', 'they', 'wouldn', 'after', 'our', 'these', 'mustn', 'a', 'she', 'more', 'be', 'shan', 'd', \"mightn't\", 'had', 'above', 'weren', 'm', 't', 'at', 'again', 'too', 'between', \"it's\", 'this', 'to', 'out', 'in', 'very', 'me', 'other', \"you'd\", 'when', 'just', 'so', 'those', 'for', 'why', 'did', 'below', 'her', 've', 'you', 'the', 'have', 'him', 'or', 'i', 'now', \"shan't\", 'does', 'and', 'himself', 'because', 'how', 'during', 'with', 'which', 'my', 'ain', 'than', 'needn', \"she's\", 'yourself', 'once', 'hadn', 'he', 'most', 'any', 'whom', 'it', 'won', \"you're\", 'doing', 'into', \"should've\", \"needn't\", 'am', 'we', 'ourselves', 'has', 'if', 'only', 'is', 'what', 'over', 'will', 'yours', 'down', 'few', 'being', 'o', 'been', 'who', 'about', 'under', 'where', 'through', \"that'll\"}\n"
     ]
    },
    {
     "name": "stderr",
     "output_type": "stream",
     "text": [
      "[nltk_data] Downloading package stopwords to\n",
      "[nltk_data]     /Users/iremindergand/nltk_data...\n",
      "[nltk_data]   Package stopwords is already up-to-date!\n"
     ]
    }
   ],
   "source": [
    "# nltk\n",
    "import nltk\n",
    "from nltk.stem import WordNetLemmatizer\n",
    "from nltk.corpus import stopwords\n",
    "from nltk.tokenize import word_tokenize\n",
    "#Stop Words: A stop word is a commonly used word (such as “the”, “a”, “an”, “in”) \n",
    "#that a search engine has been programmed to ignore,\n",
    "#both when indexing entries for searching and when retrieving them as the result of a search query.\n",
    "nltk.download('stopwords')\n",
    "stopword = set(new_list)\n",
    "print(stopword)"
   ]
  },
  {
   "cell_type": "markdown",
   "id": "macro-merchant",
   "metadata": {
    "papermill": {
     "duration": 0.028002,
     "end_time": "2021-06-20T10:34:55.926164",
     "exception": false,
     "start_time": "2021-06-20T10:34:55.898162",
     "status": "completed"
    },
    "tags": []
   },
   "source": [
    "## Data Cleaning"
   ]
  },
  {
   "cell_type": "code",
   "execution_count": 17,
   "id": "identical-membership",
   "metadata": {
    "execution": {
     "iopub.execute_input": "2021-06-20T10:34:55.987781Z",
     "iopub.status.busy": "2021-06-20T10:34:55.986488Z",
     "iopub.status.idle": "2021-06-20T10:34:56.132827Z",
     "shell.execute_reply": "2021-06-20T10:34:56.132015Z"
    },
    "papermill": {
     "duration": 0.178121,
     "end_time": "2021-06-20T10:34:56.133003",
     "exception": false,
     "start_time": "2021-06-20T10:34:55.954882",
     "status": "completed"
    },
    "tags": []
   },
   "outputs": [],
   "source": [
    "import warnings\n",
    "warnings.filterwarnings('ignore')\n",
    "import re\n",
    "import string\n",
    "import pickle\n",
    "urlPattern = r\"((http://)[^ ]*|(https://)[^ ]*|( www\\.)[^ ]*)\"\n",
    "userPattern = '@[^\\s]+'\n",
    "def process_text(Text):\n",
    "    Text=Text.lower()\n",
    "    # Removing all URls \n",
    "    Text = re.sub(urlPattern,'',Text)\n",
    "    # Removing all @username.\n",
    "    Text = re.sub(userPattern,'', Text) \n",
    "    #Remove punctuations\n",
    "    Text = Text.translate(str.maketrans(\"\",\"\",string.punctuation))\n",
    "    #tokenizing words\n",
    "    tokens = word_tokenize(Text)\n",
    "    #tokens = [w for w in tokens if len(w)>2]\n",
    "    #Removing Stop Words\n",
    "    final_tokens = [w for w in tokens if w not in stopword]\n",
    "    #reducing a word to its word stem \n",
    "    wordLemm = WordNetLemmatizer()\n",
    "    finalwords=[]\n",
    "    for w in final_tokens:\n",
    "      if len(w)>1:\n",
    "        word = wordLemm.lemmatize(w)\n",
    "        finalwords.append(word)\n",
    "    return ' '.join(finalwords)"
   ]
  },
  {
   "cell_type": "code",
   "execution_count": 18,
   "id": "acceptable-grain",
   "metadata": {
    "execution": {
     "iopub.execute_input": "2021-06-20T10:34:56.195511Z",
     "iopub.status.busy": "2021-06-20T10:34:56.194074Z",
     "iopub.status.idle": "2021-06-20T10:34:56.219608Z",
     "shell.execute_reply": "2021-06-20T10:34:56.220078Z"
    },
    "papermill": {
     "duration": 0.058325,
     "end_time": "2021-06-20T10:34:56.220258",
     "exception": false,
     "start_time": "2021-06-20T10:34:56.161933",
     "status": "completed"
    },
    "tags": []
   },
   "outputs": [],
   "source": [
    "abbreviations = {\n",
    "    \"$\" : \" dollar \",\n",
    "    \"€\" : \" euro \",\n",
    "    \"4ao\" : \"for adults only\",\n",
    "    \"a.m\" : \"before midday\",\n",
    "    \"a3\" : \"anytime anywhere anyplace\",\n",
    "    \"aamof\" : \"as a matter of fact\",\n",
    "    \"acct\" : \"account\",\n",
    "    \"adih\" : \"another day in hell\",\n",
    "    \"afaic\" : \"as far as i am concerned\",\n",
    "    \"afaict\" : \"as far as i can tell\",\n",
    "    \"afaik\" : \"as far as i know\",\n",
    "    \"afair\" : \"as far as i remember\",\n",
    "    \"afk\" : \"away from keyboard\",\n",
    "    \"app\" : \"application\",\n",
    "    \"approx\" : \"approximately\",\n",
    "    \"apps\" : \"applications\",\n",
    "    \"asap\" : \"as soon as possible\",\n",
    "    \"asl\" : \"age, sex, location\",\n",
    "    \"atk\" : \"at the keyboard\",\n",
    "    \"ave.\" : \"avenue\",\n",
    "    \"aymm\" : \"are you my mother\",\n",
    "    \"ayor\" : \"at your own risk\", \n",
    "    \"b&b\" : \"bed and breakfast\",\n",
    "    \"b+b\" : \"bed and breakfast\",\n",
    "    \"b.c\" : \"before christ\",\n",
    "    \"b2b\" : \"business to business\",\n",
    "    \"b2c\" : \"business to customer\",\n",
    "    \"b4\" : \"before\",\n",
    "    \"b4n\" : \"bye for now\",\n",
    "    \"b@u\" : \"back at you\",\n",
    "    \"bae\" : \"before anyone else\",\n",
    "    \"bak\" : \"back at keyboard\",\n",
    "    \"bbbg\" : \"bye bye be good\",\n",
    "    \"bbc\" : \"british broadcasting corporation\",\n",
    "    \"bbias\" : \"be back in a second\",\n",
    "    \"bbl\" : \"be back later\",\n",
    "    \"bbs\" : \"be back soon\",\n",
    "    \"be4\" : \"before\",\n",
    "    \"bfn\" : \"bye for now\",\n",
    "    \"blvd\" : \"boulevard\",\n",
    "    \"bout\" : \"about\",\n",
    "    \"brb\" : \"be right back\",\n",
    "    \"bros\" : \"brothers\",\n",
    "    \"brt\" : \"be right there\",\n",
    "    \"bsaaw\" : \"big smile and a wink\",\n",
    "    \"btw\" : \"by the way\",\n",
    "    \"bwl\" : \"bursting with laughter\",\n",
    "    \"c/o\" : \"care of\",\n",
    "    \"cet\" : \"central european time\",\n",
    "    \"cf\" : \"compare\",\n",
    "    \"cia\" : \"central intelligence agency\",\n",
    "    \"csl\" : \"can not stop laughing\",\n",
    "    \"cu\" : \"see you\",\n",
    "    \"cul8r\" : \"see you later\",\n",
    "    \"cv\" : \"curriculum vitae\",\n",
    "    \"cwot\" : \"complete waste of time\",\n",
    "    \"cya\" : \"see you\",\n",
    "    \"cyt\" : \"see you tomorrow\",\n",
    "    \"dae\" : \"does anyone else\",\n",
    "    \"dbmib\" : \"do not bother me i am busy\",\n",
    "    \"diy\" : \"do it yourself\",\n",
    "    \"dm\" : \"direct message\",\n",
    "    \"dwh\" : \"during work hours\",\n",
    "    \"e123\" : \"easy as one two three\",\n",
    "    \"eet\" : \"eastern european time\",\n",
    "    \"eg\" : \"example\",\n",
    "    \"embm\" : \"early morning business meeting\",\n",
    "    \"encl\" : \"enclosed\",\n",
    "    \"encl.\" : \"enclosed\",\n",
    "    \"etc\" : \"and so on\",\n",
    "    \"faq\" : \"frequently asked questions\",\n",
    "    \"fawc\" : \"for anyone who cares\",\n",
    "    \"fb\" : \"facebook\",\n",
    "    \"fc\" : \"fingers crossed\",\n",
    "    \"fig\" : \"figure\",\n",
    "    \"fimh\" : \"forever in my heart\", \n",
    "    \"ft.\" : \"feet\",\n",
    "    \"ft\" : \"featuring\",\n",
    "    \"ftl\" : \"for the loss\",\n",
    "    \"ftw\" : \"for the win\",\n",
    "    \"fwiw\" : \"for what it is worth\",\n",
    "    \"fyi\" : \"for your information\",\n",
    "    \"g9\" : \"genius\",\n",
    "    \"gahoy\" : \"get a hold of yourself\",\n",
    "    \"gal\" : \"get a life\",\n",
    "    \"gcse\" : \"general certificate of secondary education\",\n",
    "    \"gfn\" : \"gone for now\",\n",
    "    \"gg\" : \"good game\",\n",
    "    \"gl\" : \"good luck\",\n",
    "    \"glhf\" : \"good luck have fun\",\n",
    "    \"gmt\" : \"greenwich mean time\",\n",
    "    \"gmta\" : \"great minds think alike\",\n",
    "    \"gn\" : \"good night\",\n",
    "    \"g.o.a.t\" : \"greatest of all time\",\n",
    "    \"goat\" : \"greatest of all time\",\n",
    "    \"goi\" : \"get over it\",\n",
    "    \"gps\" : \"global positioning system\",\n",
    "    \"gr8\" : \"great\",\n",
    "    \"gratz\" : \"congratulations\",\n",
    "    \"gyal\" : \"girl\",\n",
    "    \"h&c\" : \"hot and cold\",\n",
    "    \"hp\" : \"horsepower\",\n",
    "    \"hr\" : \"hour\",\n",
    "    \"hrh\" : \"his royal highness\",\n",
    "    \"ht\" : \"height\",\n",
    "    \"ibrb\" : \"i will be right back\",\n",
    "    \"ic\" : \"i see\",\n",
    "    \"icq\" : \"i seek you\",\n",
    "    \"icymi\" : \"in case you missed it\",\n",
    "    \"idc\" : \"i do not care\",\n",
    "    \"idgadf\" : \"i do not give a damn fuck\",\n",
    "    \"idgaf\" : \"i do not give a fuck\",\n",
    "    \"idk\" : \"i do not know\",\n",
    "    \"ie\" : \"that is\",\n",
    "    \"i.e\" : \"that is\",\n",
    "    \"ifyp\" : \"i feel your pain\",\n",
    "    \"IG\" : \"instagram\",\n",
    "    \"iirc\" : \"if i remember correctly\",\n",
    "    \"ilu\" : \"i love you\",\n",
    "    \"ily\" : \"i love you\",\n",
    "    \"imho\" : \"in my humble opinion\",\n",
    "    \"imo\" : \"in my opinion\",\n",
    "    \"imu\" : \"i miss you\",\n",
    "    \"iow\" : \"in other words\",\n",
    "    \"irl\" : \"in real life\",\n",
    "    \"j4f\" : \"just for fun\",\n",
    "    \"jic\" : \"just in case\",\n",
    "    \"jk\" : \"just kidding\",\n",
    "    \"jsyk\" : \"just so you know\",\n",
    "    \"l8r\" : \"later\",\n",
    "    \"lb\" : \"pound\",\n",
    "    \"lbs\" : \"pounds\",\n",
    "    \"ldr\" : \"long distance relationship\",\n",
    "    \"lmao\" : \"laugh my ass off\",\n",
    "    \"lmfao\" : \"laugh my fucking ass off\",\n",
    "    \"lol\" : \"laughing out loud\",\n",
    "    \"ltd\" : \"limited\",\n",
    "    \"ltns\" : \"long time no see\",\n",
    "    \"m8\" : \"mate\",\n",
    "    \"mf\" : \"motherfucker\",\n",
    "    \"mfs\" : \"motherfuckers\",\n",
    "    \"mfw\" : \"my face when\",\n",
    "    \"mofo\" : \"motherfucker\",\n",
    "    \"mph\" : \"miles per hour\",\n",
    "    \"mr\" : \"mister\",\n",
    "    \"mrw\" : \"my reaction when\",\n",
    "    \"ms\" : \"miss\",\n",
    "    \"mte\" : \"my thoughts exactly\",\n",
    "    \"nagi\" : \"not a good idea\",\n",
    "    \"nbc\" : \"national broadcasting company\",\n",
    "    \"nbd\" : \"not big deal\",\n",
    "    \"nfs\" : \"not for sale\",\n",
    "    \"ngl\" : \"not going to lie\",\n",
    "    \"nhs\" : \"national health service\",\n",
    "    \"nrn\" : \"no reply necessary\",\n",
    "    \"nsfl\" : \"not safe for life\",\n",
    "    \"nsfw\" : \"not safe for work\",\n",
    "    \"nth\" : \"nice to have\",\n",
    "    \"nvr\" : \"never\",\n",
    "    \"nyc\" : \"new york city\",\n",
    "    \"oc\" : \"original content\",\n",
    "    \"og\" : \"original\",\n",
    "    \"ohp\" : \"overhead projector\",\n",
    "    \"oic\" : \"oh i see\",\n",
    "    \"omdb\" : \"over my dead body\",\n",
    "    \"omg\" : \"oh my god\",\n",
    "    \"omw\" : \"on my way\",\n",
    "    \"p.a\" : \"per annum\",\n",
    "    \"p.m\" : \"after midday\",\n",
    "    \"pm\" : \"prime minister\",\n",
    "    \"poc\" : \"people of color\",\n",
    "    \"pov\" : \"point of view\",\n",
    "    \"pp\" : \"pages\",\n",
    "    \"ppl\" : \"people\",\n",
    "    \"prw\" : \"parents are watching\",\n",
    "    \"ps\" : \"postscript\",\n",
    "    \"pt\" : \"point\",\n",
    "    \"ptb\" : \"please text back\",\n",
    "    \"pto\" : \"please turn over\",\n",
    "    \"qpsa\" : \"what happens\", \n",
    "    \"ratchet\" : \"rude\",\n",
    "    \"rbtl\" : \"read between the lines\",\n",
    "    \"rlrt\" : \"real life retweet\", \n",
    "    \"rofl\" : \"rolling on the floor laughing\",\n",
    "    \"roflol\" : \"rolling on the floor laughing out loud\",\n",
    "    \"rotflmao\" : \"rolling on the floor laughing my ass off\",\n",
    "    \"rt\" : \"retweet\",\n",
    "    \"ruok\" : \"are you ok\",\n",
    "    \"sfw\" : \"safe for work\",\n",
    "     \"sk8\" : \"skate\",\n",
    "    \"smh\" : \"shake my head\",\n",
    "    \"sq\" : \"square\",\n",
    "    \"srsly\" : \"seriously\", \n",
    "    \"ssdd\" : \"same stuff different day\",\n",
    "    \"tbh\" : \"to be honest\",\n",
    "    \"tbs\" : \"tablespooful\",\n",
    "    \"tbsp\" : \"tablespooful\",\n",
    "    \"tfw\" : \"that feeling when\",\n",
    "    \"thks\" : \"thank you\",\n",
    "    \"tho\" : \"though\",\n",
    "    \"thx\" : \"thank you\",\n",
    "    \"tia\" : \"thanks in advance\",\n",
    "    \"til\" : \"today i learned\",\n",
    "    \"tl;dr\" : \"too long i did not read\",\n",
    "    \"tldr\" : \"too long i did not read\",\n",
    "    \"tmb\" : \"tweet me back\",\n",
    "    \"tntl\" : \"trying not to laugh\",\n",
    "    \"ttyl\" : \"talk to you later\",\n",
    "    \"u\" : \"you\",\n",
    "    \"u2\" : \"you too\",\n",
    "    \"u4e\" : \"yours for ever\",\n",
    "    \"utc\" : \"coordinated universal time\",\n",
    "    \"w/\" : \"with\",\n",
    "    \"w/o\" : \"without\",\n",
    "    \"w8\" : \"wait\",\n",
    "    \"wassup\" : \"what is up\",\n",
    "    \"wb\" : \"welcome back\",\n",
    "    \"wtf\" : \"what the fuck\",\n",
    "    \"wtg\" : \"way to go\",\n",
    "    \"wtpa\" : \"where the party at\",\n",
    "    \"wuf\" : \"where are you from\",\n",
    "    \"wuzup\" : \"what is up\",\n",
    "    \"wywh\" : \"wish you were here\",\n",
    "    \"yd\" : \"yard\",\n",
    "    \"ygtr\" : \"you got that right\",\n",
    "    \"ynk\" : \"you never know\",\n",
    "}"
   ]
  },
  {
   "cell_type": "code",
   "execution_count": 19,
   "id": "foreign-huntington",
   "metadata": {
    "execution": {
     "iopub.execute_input": "2021-06-20T10:34:56.281134Z",
     "iopub.status.busy": "2021-06-20T10:34:56.280516Z",
     "iopub.status.idle": "2021-06-20T10:34:56.284857Z",
     "shell.execute_reply": "2021-06-20T10:34:56.285368Z"
    },
    "papermill": {
     "duration": 0.036537,
     "end_time": "2021-06-20T10:34:56.285546",
     "exception": false,
     "start_time": "2021-06-20T10:34:56.249009",
     "status": "completed"
    },
    "tags": []
   },
   "outputs": [],
   "source": [
    "def convert_abbrev_in_text(Text):\n",
    "    t=[]\n",
    "    words=Text.split()\n",
    "    t = [abbreviations[w] if w in abbreviations.keys() else w for w in words]\n",
    "    return ' '.join(t)  "
   ]
  },
  {
   "cell_type": "code",
   "execution_count": 20,
   "id": "63d7c7b2",
   "metadata": {},
   "outputs": [],
   "source": [
    "def remove_emoji(string):\n",
    "    emoji_pattern = re.compile(\"[\"\n",
    "                               u\"\\U0001F600-\\U0001F64F\"  # emoticons\n",
    "                               u\"\\U0001F300-\\U0001F5FF\"  # symbols & pictographs\n",
    "                               u\"\\U0001F680-\\U0001F6FF\"  # transport & map symbols\n",
    "                               u\"\\U0001F1E0-\\U0001F1FF\"  # flags (iOS)\n",
    "                               u\"\\U00002500-\\U00002BEF\"  # chinese char\n",
    "                               u\"\\U00002702-\\U000027B0\"\n",
    "                               u\"\\U00002702-\\U000027B0\"\n",
    "                               u\"\\U000024C2-\\U0001F251\"\n",
    "                               u\"\\U0001f926-\\U0001f937\"\n",
    "                               u\"\\U00010000-\\U0010ffff\"\n",
    "                               u\"\\u2640-\\u2642\"\n",
    "                               u\"\\u2600-\\u2B55\"\n",
    "                               u\"\\u200d\"\n",
    "                               u\"\\u23cf\"\n",
    "                               u\"\\u23e9\"\n",
    "                               u\"\\u231a\"\n",
    "                               u\"\\ufe0f\"  # dingbats\n",
    "                               u\"\\u3030\"\n",
    "                               \"]+\", flags=re.UNICODE)\n",
    "    return emoji_pattern.sub(r'', string)"
   ]
  },
  {
   "cell_type": "markdown",
   "id": "comparative-schema",
   "metadata": {
    "papermill": {
     "duration": 0.028246,
     "end_time": "2021-06-20T10:34:56.342344",
     "exception": false,
     "start_time": "2021-06-20T10:34:56.314098",
     "status": "completed"
    },
    "tags": []
   },
   "source": [
    "## Text Processing Completed"
   ]
  },
  {
   "cell_type": "code",
   "execution_count": 21,
   "id": "convenient-corpus",
   "metadata": {
    "execution": {
     "iopub.execute_input": "2021-06-20T10:34:56.402445Z",
     "iopub.status.busy": "2021-06-20T10:34:56.401788Z",
     "iopub.status.idle": "2021-06-20T10:36:15.698989Z",
     "shell.execute_reply": "2021-06-20T10:36:15.698440Z"
    },
    "papermill": {
     "duration": 79.328345,
     "end_time": "2021-06-20T10:36:15.699122",
     "exception": false,
     "start_time": "2021-06-20T10:34:56.370777",
     "status": "completed"
    },
    "tags": []
   },
   "outputs": [
    {
     "name": "stdout",
     "output_type": "stream",
     "text": [
      "Text Preprocessing complete.\n"
     ]
    },
    {
     "data": {
      "text/html": [
       "<div>\n",
       "<style scoped>\n",
       "    .dataframe tbody tr th:only-of-type {\n",
       "        vertical-align: middle;\n",
       "    }\n",
       "\n",
       "    .dataframe tbody tr th {\n",
       "        vertical-align: top;\n",
       "    }\n",
       "\n",
       "    .dataframe thead th {\n",
       "        text-align: right;\n",
       "    }\n",
       "</style>\n",
       "<table border=\"1\" class=\"dataframe\">\n",
       "  <thead>\n",
       "    <tr style=\"text-align: right;\">\n",
       "      <th></th>\n",
       "      <th>Unnamed: 0</th>\n",
       "      <th>score</th>\n",
       "      <th>Text</th>\n",
       "      <th>sentiment</th>\n",
       "      <th>Id</th>\n",
       "    </tr>\n",
       "  </thead>\n",
       "  <tbody>\n",
       "    <tr>\n",
       "      <th>0</th>\n",
       "      <td>2368</td>\n",
       "      <td>0</td>\n",
       "      <td>whaaaat embarrassing— didn even drop way</td>\n",
       "      <td>Negative</td>\n",
       "      <td>2369</td>\n",
       "    </tr>\n",
       "    <tr>\n",
       "      <th>1</th>\n",
       "      <td>4671</td>\n",
       "      <td>0</td>\n",
       "      <td>thats not excuse ignoring customer</td>\n",
       "      <td>Negative</td>\n",
       "      <td>4672</td>\n",
       "    </tr>\n",
       "    <tr>\n",
       "      <th>2</th>\n",
       "      <td>26954</td>\n",
       "      <td>1</td>\n",
       "      <td>9194 never know big order run</td>\n",
       "      <td>Positive</td>\n",
       "      <td>26955</td>\n",
       "    </tr>\n",
       "    <tr>\n",
       "      <th>3</th>\n",
       "      <td>1937</td>\n",
       "      <td>1</td>\n",
       "      <td>taking</td>\n",
       "      <td>Positive</td>\n",
       "      <td>1938</td>\n",
       "    </tr>\n",
       "    <tr>\n",
       "      <th>4</th>\n",
       "      <td>27130</td>\n",
       "      <td>1</td>\n",
       "      <td>56774 already work day</td>\n",
       "      <td>Positive</td>\n",
       "      <td>27131</td>\n",
       "    </tr>\n",
       "    <tr>\n",
       "      <th>...</th>\n",
       "      <td>...</td>\n",
       "      <td>...</td>\n",
       "      <td>...</td>\n",
       "      <td>...</td>\n",
       "      <td>...</td>\n",
       "    </tr>\n",
       "    <tr>\n",
       "      <th>55583</th>\n",
       "      <td>23052</td>\n",
       "      <td>1</td>\n",
       "      <td>congrats everyone worked today awesome job way...</td>\n",
       "      <td>Positive</td>\n",
       "      <td>23053</td>\n",
       "    </tr>\n",
       "    <tr>\n",
       "      <th>55584</th>\n",
       "      <td>14919</td>\n",
       "      <td>1</td>\n",
       "      <td>im curious others explanation</td>\n",
       "      <td>Positive</td>\n",
       "      <td>14920</td>\n",
       "    </tr>\n",
       "    <tr>\n",
       "      <th>55585</th>\n",
       "      <td>13988</td>\n",
       "      <td>0</td>\n",
       "      <td>not know though</td>\n",
       "      <td>Negative</td>\n",
       "      <td>13989</td>\n",
       "    </tr>\n",
       "    <tr>\n",
       "      <th>55586</th>\n",
       "      <td>18934</td>\n",
       "      <td>1</td>\n",
       "      <td>hereditary</td>\n",
       "      <td>Positive</td>\n",
       "      <td>18935</td>\n",
       "    </tr>\n",
       "    <tr>\n",
       "      <th>55587</th>\n",
       "      <td>25449</td>\n",
       "      <td>1</td>\n",
       "      <td>annnnddddd done schedule tomorrow look like ca...</td>\n",
       "      <td>Positive</td>\n",
       "      <td>25450</td>\n",
       "    </tr>\n",
       "  </tbody>\n",
       "</table>\n",
       "<p>55588 rows × 5 columns</p>\n",
       "</div>"
      ],
      "text/plain": [
       "       Unnamed: 0 score                                               Text  \\\n",
       "0            2368     0           whaaaat embarrassing— didn even drop way   \n",
       "1            4671     0                 thats not excuse ignoring customer   \n",
       "2           26954     1                      9194 never know big order run   \n",
       "3            1937     1                                             taking   \n",
       "4           27130     1                             56774 already work day   \n",
       "...           ...   ...                                                ...   \n",
       "55583       23052     1  congrats everyone worked today awesome job way...   \n",
       "55584       14919     1                      im curious others explanation   \n",
       "55585       13988     0                                    not know though   \n",
       "55586       18934     1                                         hereditary   \n",
       "55587       25449     1  annnnddddd done schedule tomorrow look like ca...   \n",
       "\n",
       "      sentiment     Id  \n",
       "0      Negative   2369  \n",
       "1      Negative   4672  \n",
       "2      Positive  26955  \n",
       "3      Positive   1938  \n",
       "4      Positive  27131  \n",
       "...         ...    ...  \n",
       "55583  Positive  23053  \n",
       "55584  Positive  14920  \n",
       "55585  Negative  13989  \n",
       "55586  Positive  18935  \n",
       "55587  Positive  25450  \n",
       "\n",
       "[55588 rows x 5 columns]"
      ]
     },
     "execution_count": 21,
     "metadata": {},
     "output_type": "execute_result"
    }
   ],
   "source": [
    "df['Text'] = df['Text'].apply(lambda x: convert_abbrev_in_text(x))\n",
    "df['Text'] = df['Text'].apply(lambda x: process_text(x))\n",
    "df['Text'] = df['Text'].apply(lambda x: remove_emoji(x))\n",
    "print('Text Preprocessing complete.')\n",
    "df"
   ]
  },
  {
   "cell_type": "code",
   "execution_count": 22,
   "id": "about-beaver",
   "metadata": {
    "execution": {
     "iopub.execute_input": "2021-06-20T10:36:16.288361Z",
     "iopub.status.busy": "2021-06-20T10:36:16.282886Z",
     "iopub.status.idle": "2021-06-20T10:36:16.377506Z",
     "shell.execute_reply": "2021-06-20T10:36:16.376852Z"
    },
    "papermill": {
     "duration": 0.128723,
     "end_time": "2021-06-20T10:36:16.377641",
     "exception": false,
     "start_time": "2021-06-20T10:36:16.248918",
     "status": "completed"
    },
    "tags": []
   },
   "outputs": [],
   "source": [
    "from sklearn.utils import shuffle\n",
    "df = shuffle(df).reset_index(drop=True)\n"
   ]
  },
  {
   "cell_type": "markdown",
   "id": "random-mounting",
   "metadata": {
    "papermill": {
     "duration": 0.030055,
     "end_time": "2021-06-20T10:36:16.438644",
     "exception": false,
     "start_time": "2021-06-20T10:36:16.408589",
     "status": "completed"
    },
    "tags": []
   },
   "source": [
    "## Tokenization"
   ]
  },
  {
   "cell_type": "code",
   "execution_count": 23,
   "id": "beautiful-despite",
   "metadata": {
    "execution": {
     "iopub.execute_input": "2021-06-20T10:36:16.505424Z",
     "iopub.status.busy": "2021-06-20T10:36:16.504352Z",
     "iopub.status.idle": "2021-06-20T10:36:16.944139Z",
     "shell.execute_reply": "2021-06-20T10:36:16.943528Z"
    },
    "papermill": {
     "duration": 0.475001,
     "end_time": "2021-06-20T10:36:16.944275",
     "exception": false,
     "start_time": "2021-06-20T10:36:16.469274",
     "status": "completed"
    },
    "tags": []
   },
   "outputs": [
    {
     "data": {
      "text/plain": [
       "0                 [havent, power, since, 10pm, sunday]\n",
       "1    [good, morning, everyone, not, able, make, wor...\n",
       "2    [wondering, thing, scanner, especially, touchy...\n",
       "3    [mine, geoff, said, leave, sorry, closed, last...\n",
       "4                                   [nooooo, not, pie]\n",
       "Name: Text, dtype: object"
      ]
     },
     "execution_count": 23,
     "metadata": {},
     "output_type": "execute_result"
    }
   ],
   "source": [
    "tokenized_df=df['Text'].apply(lambda x: x.split())\n",
    "tokenized_df.head(5)"
   ]
  },
  {
   "cell_type": "code",
   "execution_count": 24,
   "id": "outdoor-bunny",
   "metadata": {
    "execution": {
     "iopub.execute_input": "2021-06-20T10:36:17.254913Z",
     "iopub.status.busy": "2021-06-20T10:36:17.053480Z",
     "iopub.status.idle": "2021-06-20T10:36:20.557096Z",
     "shell.execute_reply": "2021-06-20T10:36:20.556330Z"
    },
    "papermill": {
     "duration": 3.582206,
     "end_time": "2021-06-20T10:36:20.557260",
     "exception": false,
     "start_time": "2021-06-20T10:36:16.975054",
     "status": "completed"
    },
    "tags": []
   },
   "outputs": [],
   "source": [
    "from sklearn.feature_extraction.text import CountVectorizer\n",
    "from nltk.tokenize import RegexpTokenizer\n",
    "token = RegexpTokenizer(r'[a-zA-Z0-9]+')\n",
    "cv = CountVectorizer(stop_words=new_list,ngram_range = \n",
    "                     (1,1),tokenizer = token.tokenize)\n",
    "text_counts = cv.fit_transform(\n",
    "    df['Text'].values.astype('U'))"
   ]
  },
  {
   "cell_type": "code",
   "execution_count": 25,
   "id": "498a1b5d",
   "metadata": {},
   "outputs": [
    {
     "data": {
      "text/html": [
       "<div>\n",
       "<style scoped>\n",
       "    .dataframe tbody tr th:only-of-type {\n",
       "        vertical-align: middle;\n",
       "    }\n",
       "\n",
       "    .dataframe tbody tr th {\n",
       "        vertical-align: top;\n",
       "    }\n",
       "\n",
       "    .dataframe thead th {\n",
       "        text-align: right;\n",
       "    }\n",
       "</style>\n",
       "<table border=\"1\" class=\"dataframe\">\n",
       "  <thead>\n",
       "    <tr style=\"text-align: right;\">\n",
       "      <th></th>\n",
       "      <th>Unnamed: 0</th>\n",
       "      <th>score</th>\n",
       "      <th>Text</th>\n",
       "      <th>sentiment</th>\n",
       "      <th>Id</th>\n",
       "    </tr>\n",
       "  </thead>\n",
       "  <tbody>\n",
       "    <tr>\n",
       "      <th>0</th>\n",
       "      <td>16524</td>\n",
       "      <td>0</td>\n",
       "      <td>havent power since 10pm sunday</td>\n",
       "      <td>Negative</td>\n",
       "      <td>16525</td>\n",
       "    </tr>\n",
       "    <tr>\n",
       "      <th>1</th>\n",
       "      <td>20535</td>\n",
       "      <td>0</td>\n",
       "      <td>good morning everyone not able make work eveni...</td>\n",
       "      <td>Negative</td>\n",
       "      <td>20536</td>\n",
       "    </tr>\n",
       "    <tr>\n",
       "      <th>2</th>\n",
       "      <td>15368</td>\n",
       "      <td>0</td>\n",
       "      <td>wondering thing scanner especially touchy some...</td>\n",
       "      <td>Negative</td>\n",
       "      <td>15369</td>\n",
       "    </tr>\n",
       "    <tr>\n",
       "      <th>3</th>\n",
       "      <td>4552</td>\n",
       "      <td>0</td>\n",
       "      <td>mine geoff said leave sorry closed last night ...</td>\n",
       "      <td>Negative</td>\n",
       "      <td>4553</td>\n",
       "    </tr>\n",
       "    <tr>\n",
       "      <th>4</th>\n",
       "      <td>9638</td>\n",
       "      <td>0</td>\n",
       "      <td>nooooo not pie</td>\n",
       "      <td>Negative</td>\n",
       "      <td>9639</td>\n",
       "    </tr>\n",
       "  </tbody>\n",
       "</table>\n",
       "</div>"
      ],
      "text/plain": [
       "   Unnamed: 0 score                                               Text  \\\n",
       "0       16524     0                     havent power since 10pm sunday   \n",
       "1       20535     0  good morning everyone not able make work eveni...   \n",
       "2       15368     0  wondering thing scanner especially touchy some...   \n",
       "3        4552     0  mine geoff said leave sorry closed last night ...   \n",
       "4        9638     0                                     nooooo not pie   \n",
       "\n",
       "  sentiment     Id  \n",
       "0  Negative  16525  \n",
       "1  Negative  20536  \n",
       "2  Negative  15369  \n",
       "3  Negative   4553  \n",
       "4  Negative   9639  "
      ]
     },
     "execution_count": 25,
     "metadata": {},
     "output_type": "execute_result"
    }
   ],
   "source": [
    "df.head()"
   ]
  },
  {
   "cell_type": "code",
   "execution_count": null,
   "id": "ce2965b1",
   "metadata": {},
   "outputs": [],
   "source": []
  },
  {
   "cell_type": "markdown",
   "id": "opponent-mexican",
   "metadata": {
    "papermill": {
     "duration": 0.0305,
     "end_time": "2021-06-20T10:36:20.618665",
     "exception": false,
     "start_time": "2021-06-20T10:36:20.588165",
     "status": "completed"
    },
    "tags": []
   },
   "source": [
    "## Train/Test Split"
   ]
  },
  {
   "cell_type": "code",
   "execution_count": 26,
   "id": "moderate-blame",
   "metadata": {
    "execution": {
     "iopub.execute_input": "2021-06-20T10:36:20.687279Z",
     "iopub.status.busy": "2021-06-20T10:36:20.686654Z",
     "iopub.status.idle": "2021-06-20T10:36:20.715918Z",
     "shell.execute_reply": "2021-06-20T10:36:20.715389Z"
    },
    "papermill": {
     "duration": 0.065883,
     "end_time": "2021-06-20T10:36:20.716078",
     "exception": false,
     "start_time": "2021-06-20T10:36:20.650195",
     "status": "completed"
    },
    "tags": []
   },
   "outputs": [],
   "source": [
    "from sklearn.model_selection import train_test_split\n",
    "X=text_counts\n",
    "y=df['score']\n",
    "X_train, X_test, y_train, y_test = train_test_split(X, y, test_size=0.20,random_state=19)\n"
   ]
  },
  {
   "cell_type": "markdown",
   "id": "grateful-identification",
   "metadata": {
    "papermill": {
     "duration": 0.030309,
     "end_time": "2021-06-20T10:36:20.778093",
     "exception": false,
     "start_time": "2021-06-20T10:36:20.747784",
     "status": "completed"
    },
    "tags": []
   },
   "source": [
    "## Naive Bayes"
   ]
  },
  {
   "cell_type": "code",
   "execution_count": 29,
   "id": "chubby-mixer",
   "metadata": {
    "execution": {
     "iopub.execute_input": "2021-06-20T10:36:20.846871Z",
     "iopub.status.busy": "2021-06-20T10:36:20.846250Z",
     "iopub.status.idle": "2021-06-20T10:36:23.228526Z",
     "shell.execute_reply": "2021-06-20T10:36:23.229250Z"
    },
    "papermill": {
     "duration": 2.420225,
     "end_time": "2021-06-20T10:36:23.229413",
     "exception": false,
     "start_time": "2021-06-20T10:36:20.809188",
     "status": "completed"
    },
    "tags": []
   },
   "outputs": [
    {
     "name": "stdout",
     "output_type": "stream",
     "text": [
      "Cross Validation score =  [0.88756971 0.88514121 0.88640043 0.88845912 0.89385626]\n",
      "Train accuracy =90.31%\n",
      "Test accuracy =88.60%\n"
     ]
    }
   ],
   "source": [
    "from sklearn.naive_bayes import ComplementNB\n",
    "from sklearn.model_selection import GridSearchCV\n",
    "from sklearn.model_selection import cross_val_score\n",
    "from sklearn import metrics\n",
    "from math import *\n",
    "cnb = ComplementNB()\n",
    "cnb.fit(X_train, y_train)\n",
    "cross_cnb = cross_val_score(cnb, X, y,n_jobs = -1)\n",
    "print(\"Cross Validation score = \",cross_cnb)                \n",
    "print (\"Train accuracy ={:.2f}%\".format(cnb.score(X_train,y_train)*100))\n",
    "print (\"Test accuracy ={:.2f}%\".format(cnb.score(X_test,y_test)*100))\n",
    "train_acc_cnb=cnb.score(X_train,y_train)\n",
    "test_acc_cnb=cnb.score(X_test,y_test)"
   ]
  },
  {
   "cell_type": "code",
   "execution_count": 30,
   "id": "oriental-screw",
   "metadata": {
    "execution": {
     "iopub.execute_input": "2021-06-20T10:36:23.318234Z",
     "iopub.status.busy": "2021-06-20T10:36:23.317578Z",
     "iopub.status.idle": "2021-06-20T10:36:23.483358Z",
     "shell.execute_reply": "2021-06-20T10:36:23.482822Z"
    },
    "papermill": {
     "duration": 0.222677,
     "end_time": "2021-06-20T10:36:23.483528",
     "exception": false,
     "start_time": "2021-06-20T10:36:23.260851",
     "status": "completed"
    },
    "tags": []
   },
   "outputs": [
    {
     "data": {
      "image/png": "[encoded data removed]",
      "text/plain": [
       "<Figure size 800x800 with 1 Axes>"
      ]
     },
     "metadata": {},
     "output_type": "display_data"
    }
   ],
   "source": [
    "#plotting the best parameters\n",
    "import matplotlib.patches as mpatches\n",
    "import numpy as np\n",
    "import pandas as pd\n",
    "from pandas import Series, DataFrame\n",
    "import matplotlib.pyplot as plt\n",
    "data_cnb = [train_acc_cnb,test_acc_cnb]\n",
    "labels = ['Train Accuracy','Test Accuracy']\n",
    "plt.xticks(range(len(data_cnb)), labels)\n",
    "plt.ylabel('Accuracy')\n",
    "plt.title('Accuracy plot with best parameters')\n",
    "plt.bar(range(len(data_cnb)), data_cnb,color=['blue','darkorange']) \n",
    "Train_acc = mpatches.Patch(color='blue', label='Train_acc')\n",
    "Test_acc = mpatches.Patch(color='darkorange', label='Test_acc')\n",
    "plt.legend(handles=[Train_acc, Test_acc],loc='best')\n",
    "plt.gcf().set_size_inches(8, 8)\n",
    "plt.show()"
   ]
  },
  {
   "cell_type": "markdown",
   "id": "pointed-hello",
   "metadata": {
    "papermill": {
     "duration": 0.032637,
     "end_time": "2021-06-20T10:36:23.549086",
     "exception": false,
     "start_time": "2021-06-20T10:36:23.516449",
     "status": "completed"
    },
    "tags": []
   },
   "source": [
    "## Confusion Matrix"
   ]
  },
  {
   "cell_type": "code",
   "execution_count": 31,
   "id": "promotional-cosmetic",
   "metadata": {
    "execution": {
     "iopub.execute_input": "2021-06-20T10:36:23.621589Z",
     "iopub.status.busy": "2021-06-20T10:36:23.620546Z",
     "iopub.status.idle": "2021-06-20T10:36:23.685278Z",
     "shell.execute_reply": "2021-06-20T10:36:23.685893Z"
    },
    "papermill": {
     "duration": 0.103759,
     "end_time": "2021-06-20T10:36:23.686060",
     "exception": false,
     "start_time": "2021-06-20T10:36:23.582301",
     "status": "completed"
    },
    "tags": []
   },
   "outputs": [],
   "source": [
    " from sklearn.metrics import *\n",
    "#Predict test data set\n",
    "y_pred_cnb =cnb.predict(X_test)\n",
    "\n",
    "#This is the confusion matrix :\n",
    "#from sklearn.metrics import confusion_matrix\n",
    "#print(confusion_matrix(y_test,y_pred_cnb))"
   ]
  },
  {
   "cell_type": "code",
   "execution_count": 32,
   "id": "7cd75073",
   "metadata": {},
   "outputs": [
    {
     "data": {
      "text/html": [
       "<div>\n",
       "<style scoped>\n",
       "    .dataframe tbody tr th:only-of-type {\n",
       "        vertical-align: middle;\n",
       "    }\n",
       "\n",
       "    .dataframe tbody tr th {\n",
       "        vertical-align: top;\n",
       "    }\n",
       "\n",
       "    .dataframe thead th {\n",
       "        text-align: right;\n",
       "    }\n",
       "</style>\n",
       "<table border=\"1\" class=\"dataframe\">\n",
       "  <thead>\n",
       "    <tr style=\"text-align: right;\">\n",
       "      <th></th>\n",
       "      <th>0</th>\n",
       "      <th>1</th>\n",
       "    </tr>\n",
       "  </thead>\n",
       "  <tbody>\n",
       "    <tr>\n",
       "      <th>0</th>\n",
       "      <td>5495</td>\n",
       "      <td>145</td>\n",
       "    </tr>\n",
       "    <tr>\n",
       "      <th>1</th>\n",
       "      <td>1122</td>\n",
       "      <td>4356</td>\n",
       "    </tr>\n",
       "  </tbody>\n",
       "</table>\n",
       "</div>"
      ],
      "text/plain": [
       "      0     1\n",
       "0  5495   145\n",
       "1  1122  4356"
      ]
     },
     "execution_count": 32,
     "metadata": {},
     "output_type": "execute_result"
    }
   ],
   "source": [
    "y_pred = cnb.predict(X_test)\n",
    "cm = confusion_matrix(y_test, y_pred, labels=df.score.unique())\n",
    "df_cm = pd.DataFrame(cm, index=df.score.unique(), columns=df.score.unique())\n",
    "df_cm"
   ]
  },
  {
   "cell_type": "code",
   "execution_count": 33,
   "id": "c2e50652",
   "metadata": {},
   "outputs": [
    {
     "data": {
      "text/html": [
       "<div>\n",
       "<style scoped>\n",
       "    .dataframe tbody tr th:only-of-type {\n",
       "        vertical-align: middle;\n",
       "    }\n",
       "\n",
       "    .dataframe tbody tr th {\n",
       "        vertical-align: top;\n",
       "    }\n",
       "\n",
       "    .dataframe thead th {\n",
       "        text-align: right;\n",
       "    }\n",
       "</style>\n",
       "<table border=\"1\" class=\"dataframe\">\n",
       "  <thead>\n",
       "    <tr style=\"text-align: right;\">\n",
       "      <th></th>\n",
       "      <th>0</th>\n",
       "      <th>1</th>\n",
       "    </tr>\n",
       "  </thead>\n",
       "  <tbody>\n",
       "    <tr>\n",
       "      <th>0</th>\n",
       "      <td>0.830437</td>\n",
       "      <td>0.032215</td>\n",
       "    </tr>\n",
       "    <tr>\n",
       "      <th>1</th>\n",
       "      <td>0.169563</td>\n",
       "      <td>0.967785</td>\n",
       "    </tr>\n",
       "  </tbody>\n",
       "</table>\n",
       "</div>"
      ],
      "text/plain": [
       "          0         1\n",
       "0  0.830437  0.032215\n",
       "1  0.169563  0.967785"
      ]
     },
     "execution_count": 33,
     "metadata": {},
     "output_type": "execute_result"
    }
   ],
   "source": [
    "df_cm_percentage = df_cm.copy()\n",
    "for i in df_cm_percentage:\n",
    "  df_cm_percentage[i]/=df_cm_percentage[i].sum()\n",
    "\n",
    "df_cm_percentage"
   ]
  },
  {
   "cell_type": "code",
   "execution_count": 34,
   "id": "cec0e06b",
   "metadata": {},
   "outputs": [
    {
     "data": {
      "text/plain": [
       "[0, 1]\n",
       "Categories (2, int64): [0, 1]"
      ]
     },
     "execution_count": 34,
     "metadata": {},
     "output_type": "execute_result"
    }
   ],
   "source": [
    "df['score'].unique()"
   ]
  },
  {
   "cell_type": "code",
   "execution_count": 35,
   "id": "bf773951",
   "metadata": {},
   "outputs": [],
   "source": [
    "from sklearn.metrics import confusion_matrix\n",
    "\n",
    "#Generate the confusion matrix\n",
    "cf_matrix = confusion_matrix(y_test, y_pred)\n",
    "\n"
   ]
  },
  {
   "cell_type": "markdown",
   "id": "freelance-notebook",
   "metadata": {
    "papermill": {
     "duration": 0.033467,
     "end_time": "2021-06-20T10:36:23.900202",
     "exception": false,
     "start_time": "2021-06-20T10:36:23.866735",
     "status": "completed"
    },
    "tags": []
   },
   "source": [
    "## Calculating F1, prescision and recall scores"
   ]
  },
  {
   "cell_type": "code",
   "execution_count": 57,
   "id": "virgin-video",
   "metadata": {
    "execution": {
     "iopub.execute_input": "2021-06-20T10:36:23.975814Z",
     "iopub.status.busy": "2021-06-20T10:36:23.974680Z",
     "iopub.status.idle": "2021-06-20T10:36:24.070368Z",
     "shell.execute_reply": "2021-06-20T10:36:24.069754Z"
    },
    "papermill": {
     "duration": 0.136707,
     "end_time": "2021-06-20T10:36:24.070534",
     "exception": false,
     "start_time": "2021-06-20T10:36:23.933827",
     "status": "completed"
    },
    "tags": []
   },
   "outputs": [
    {
     "name": "stdout",
     "output_type": "stream",
     "text": [
      "F1 score =89.13%\n",
      "Precision score =90.45%\n",
      "Recall score =89.16%\n"
     ]
    }
   ],
   "source": [
    "from sklearn.metrics import *\n",
    "\n",
    "print(\"F1 score ={:.2f}%\".format(f1_score(y_test, y_pred_cnb, average=\"macro\")*100))\n",
    "f1_cnb=f1_score(y_test, y_pred_cnb, average=\"macro\")\n",
    "print(\"Precision score ={:.2f}%\".format(precision_score(y_test, y_pred_cnb, average=\"macro\")*100))\n",
    "precision_cnb=precision_score(y_test, y_pred_cnb, average=\"macro\")\n",
    "print(\"Recall score ={:.2f}%\".format(recall_score(y_test, y_pred_cnb, average=\"macro\")*100))  \n",
    "recall_cnb=recall_score(y_test, y_pred_cnb, average=\"macro\")"
   ]
  },
  {
   "cell_type": "code",
   "execution_count": null,
   "id": "e5f8e957",
   "metadata": {},
   "outputs": [],
   "source": []
  },
  {
   "cell_type": "code",
   "execution_count": 36,
   "id": "1a48e130",
   "metadata": {},
   "outputs": [],
   "source": [
    "import numpy as np\n",
    "import matplotlib.pyplot as plt\n",
    "import seaborn as sns\n",
    "\n",
    "def make_confusion_matrix(cf,\n",
    "                          group_names=None,\n",
    "                          categories='auto',\n",
    "                          count=True,\n",
    "                          percent=True,\n",
    "                          cbar=True,\n",
    "                          xyticks=True,\n",
    "                          xyplotlabels=True,\n",
    "                          sum_stats=True,\n",
    "                          figsize=None,\n",
    "                          cmap='Blues',\n",
    "                          title=None):\n",
    "    '''\n",
    "    This function will make a pretty plot of an sklearn Confusion Matrix cm using a Seaborn heatmap visualization.\n",
    "    Arguments\n",
    "    ---------\n",
    "    cf:            confusion matrix to be passed in\n",
    "    group_names:   List of strings that represent the labels row by row to be shown in each square.\n",
    "    categories:    List of strings containing the categories to be displayed on the x,y axis. Default is 'auto'\n",
    "    count:         If True, show the raw number in the confusion matrix. Default is True.\n",
    "    normalize:     If True, show the proportions for each category. Default is True.\n",
    "    cbar:          If True, show the color bar. The cbar values are based off the values in the confusion matrix.\n",
    "                   Default is True.\n",
    "    xyticks:       If True, show x and y ticks. Default is True.\n",
    "    xyplotlabels:  If True, show 'True Label' and 'Predicted Label' on the figure. Default is True.\n",
    "    sum_stats:     If True, display summary statistics below the figure. Default is True.\n",
    "    figsize:       Tuple representing the figure size. Default will be the matplotlib rcParams value.\n",
    "    cmap:          Colormap of the values displayed from matplotlib.pyplot.cm. Default is 'Blues'\n",
    "                   See http://matplotlib.org/examples/color/colormaps_reference.html\n",
    "                   \n",
    "    title:         Title for the heatmap. Default is None.\n",
    "    '''\n",
    "\n",
    "\n",
    "    # CODE TO GENERATE TEXT INSIDE EACH SQUARE\n",
    "    blanks = ['' for i in range(cf.size)]\n",
    "\n",
    "    if group_names and len(group_names)==cf.size:\n",
    "        group_labels = [\"{}\\n\".format(value) for value in group_names]\n",
    "    else:\n",
    "        group_labels = blanks\n",
    "\n",
    "    if count:\n",
    "        group_counts = [\"{0:0.0f}\\n\".format(value) for value in cf.flatten()]\n",
    "    else:\n",
    "        group_counts = blanks\n",
    "\n",
    "\n",
    "    box_labels = [f\"{v1}{v2}\".strip() for v1, v2 in zip(group_labels,group_counts)]\n",
    "    box_labels = np.asarray(box_labels).reshape(cf.shape[0],cf.shape[1])\n",
    "\n",
    "\n",
    "    # CODE TO GENERATE SUMMARY STATISTICS & TEXT FOR SUMMARY STATS\n",
    "    if sum_stats:\n",
    "        #Accuracy is sum of diagonal divided by total observations\n",
    "        accuracy  = np.trace(cf) / float(np.sum(cf))\n",
    "\n",
    "        #if it is a binary confusion matrix, show some more stats\n",
    "        if len(cf)==2:\n",
    "            #Metrics for Binary Confusion Matrices\n",
    "            precision = cf[1,1] / sum(cf[:,1])\n",
    "            recall    = cf[1,1] / sum(cf[1,:])\n",
    "            f1_score  = 2*precision*recall / (precision + recall)\n",
    "            stats_text = \"\\n\\nAccuracy={:0.3f}\\nPrecision={:0.3f}\\nRecall={:0.3f}\\nF1 Score={:0.3f}\".format(\n",
    "                accuracy,precision,recall,f1_score)\n",
    "        else:\n",
    "            stats_text = \"\\n\\nAccuracy={:0.3f}\".format(accuracy)\n",
    "    else:\n",
    "        stats_text = \"\"\n",
    "\n",
    "\n",
    "    # SET FIGURE PARAMETERS ACCORDING TO OTHER ARGUMENTS\n",
    "    if figsize==None:\n",
    "        #Get default figure size if not set\n",
    "        figsize = plt.rcParams.get('figure.figsize')\n",
    "\n",
    "    if xyticks==False:\n",
    "        #Do not show categories if xyticks is False\n",
    "        categories=False\n",
    "\n",
    "\n",
    "    # MAKE THE HEATMAP VISUALIZATION\n",
    "    plt.figure(figsize=figsize)\n",
    "    sns.heatmap(cf,annot=box_labels,fmt=\"\",cmap='Blues',cbar=cbar,xticklabels=categories,yticklabels=categories)\n",
    "\n",
    "    if xyplotlabels:\n",
    "        plt.ylabel('True label')\n",
    "        plt.xlabel('Predicted label' + stats_text)\n",
    "    else:\n",
    "        plt.xlabel(stats_text)\n",
    "    \n",
    "    if title:\n",
    "        plt.title(title)\n",
    "\n",
    "\n"
   ]
  },
  {
   "cell_type": "code",
   "execution_count": 37,
   "id": "a16eb1ed",
   "metadata": {
    "scrolled": true
   },
   "outputs": [
    {
     "data": {
      "image/png": "[encoded data removed]",
      "text/plain": [
       "<Figure size 640x480 with 2 Axes>"
      ]
     },
     "metadata": {},
     "output_type": "display_data"
    }
   ],
   "source": [
    "labels = ['TN','FP','FN','TP']\n",
    "categories = [\"0\", \"1\"]\n",
    "make_confusion_matrix(cf_matrix, \n",
    "                      group_names=labels,\n",
    "                      categories=categories, \n",
    "                      cmap='binary')"
   ]
  },
  {
   "cell_type": "code",
   "execution_count": 38,
   "id": "fb61a761",
   "metadata": {},
   "outputs": [
    {
     "name": "stdout",
     "output_type": "stream",
     "text": [
      "              precision    recall  f1-score   support\n",
      "\n",
      "           0       0.83      0.97      0.90      5640\n",
      "           1       0.97      0.80      0.87      5478\n",
      "\n",
      "    accuracy                           0.89     11118\n",
      "   macro avg       0.90      0.88      0.88     11118\n",
      "weighted avg       0.90      0.89      0.89     11118\n",
      "\n"
     ]
    }
   ],
   "source": [
    "print(classification_report(y_test, y_pred))\n",
    "\n"
   ]
  },
  {
   "cell_type": "markdown",
   "id": "bc700036",
   "metadata": {},
   "source": [
    "#### Overfitting check"
   ]
  },
  {
   "cell_type": "code",
   "execution_count": 43,
   "id": "4af39166",
   "metadata": {},
   "outputs": [
    {
     "name": "stdout",
     "output_type": "stream",
     "text": [
      "0.9031032156510007\n",
      "0.8860406547940277\n"
     ]
    }
   ],
   "source": [
    "print(cnb.score(X_train,y_train))\n",
    "print(cnb.score(X_test,y_test))"
   ]
  },
  {
   "cell_type": "code",
   "execution_count": null,
   "id": "94fe5336",
   "metadata": {},
   "outputs": [],
   "source": []
  }
 ],
 "metadata": {
  "kernelspec": {
   "display_name": "Python 3 (ipykernel)",
   "language": "python",
   "name": "python3"
  },
  "language_info": {
   "codemirror_mode": {
    "name": "ipython",
    "version": 3
   },
   "file_extension": ".py",
   "mimetype": "text/x-python",
   "name": "python",
   "nbconvert_exporter": "python",
   "pygments_lexer": "ipython3",
   "version": "3.9.12"
  },
  "papermill": {
   "default_parameters": {},
   "duration": 108.829932,
   "end_time": "2021-06-20T10:36:26.474401",
   "environment_variables": {},
   "exception": null,
   "input_path": "__notebook__.ipynb",
   "output_path": "__notebook__.ipynb",
   "parameters": {},
   "start_time": "2021-06-20T10:34:37.644469",
   "version": "2.3.3"
  }
 },
 "nbformat": 4,
 "nbformat_minor": 5
}

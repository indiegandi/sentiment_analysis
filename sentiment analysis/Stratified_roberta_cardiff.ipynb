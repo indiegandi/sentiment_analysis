{
 "cells": [
  {
   "cell_type": "code",
   "execution_count": 3,
   "id": "9e1ce683",
   "metadata": {},
   "outputs": [],
   "source": [
    "import pandas as pd\n",
    "import numpy as np\n",
    "import matplotlib.pyplot as plt\n",
    "import seaborn as sns\n",
    "import mpl_toolkits\n",
    "import time\n",
    "from dateutil import parser\n",
    "import datetime\n",
    "from transformers import pipeline\n",
    "from sklearn.metrics import precision_recall_fscore_support\n",
    "from sklearn.datasets import make_classification\n",
    "from sklearn.metrics import accuracy_score, f1_score, precision_score, recall_score, classification_report, confusion_matrix, roc_auc_score\n",
    "from sklearn.metrics import precision_recall_fscore_support as score"
   ]
  },
  {
   "cell_type": "code",
   "execution_count": 4,
   "id": "665916e9",
   "metadata": {},
   "outputs": [],
   "source": [
    "df = pd.read_csv('df_full.csv', encoding='utf-8')"
   ]
  },
  {
   "cell_type": "code",
   "execution_count": 5,
   "id": "6d5343be",
   "metadata": {},
   "outputs": [],
   "source": [
    "# Importing a twitter-specific machine learning model from transformers\n",
    "specific_model = pipeline(model=\"cardiffnlp/twitter-roberta-base-sentiment\")\n"
   ]
  },
  {
   "cell_type": "code",
   "execution_count": 6,
   "id": "2a793dc0",
   "metadata": {},
   "outputs": [
    {
     "data": {
      "text/plain": [
       "'LABEL_0'"
      ]
     },
     "execution_count": 6,
     "metadata": {},
     "output_type": "execute_result"
    }
   ],
   "source": [
    "l = specific_model(\"I hate you but I love you\")\n",
    "l[0]['label']"
   ]
  },
  {
   "cell_type": "code",
   "execution_count": 7,
   "id": "18cb49b3",
   "metadata": {},
   "outputs": [],
   "source": [
    "df= df.drop(columns=['score'])"
   ]
  },
  {
   "cell_type": "code",
   "execution_count": 9,
   "id": "81a9c679",
   "metadata": {},
   "outputs": [],
   "source": [
    "result_list = []\n",
    "def sentiment():\n",
    "    for i in range(len(df)):\n",
    "        roberta = df['Text'][i]\n",
    "        result = specific_model(roberta)\n",
    "        result_list.append(result)"
   ]
  },
  {
   "cell_type": "code",
   "execution_count": 10,
   "id": "4d539125",
   "metadata": {},
   "outputs": [],
   "source": [
    "sentiment()"
   ]
  },
  {
   "cell_type": "code",
   "execution_count": 31,
   "id": "08fc2eb4",
   "metadata": {},
   "outputs": [],
   "source": [
    "df['roberta_list']=result_list"
   ]
  },
  {
   "cell_type": "code",
   "execution_count": 32,
   "id": "b315d113",
   "metadata": {},
   "outputs": [],
   "source": [
    "df['roberta_list']= pd.DataFrame (result_list, columns = ['roberta'])"
   ]
  },
  {
   "cell_type": "code",
   "execution_count": 33,
   "id": "2102e51d",
   "metadata": {},
   "outputs": [
    {
     "data": {
      "text/html": [
       "<div>\n",
       "<style scoped>\n",
       "    .dataframe tbody tr th:only-of-type {\n",
       "        vertical-align: middle;\n",
       "    }\n",
       "\n",
       "    .dataframe tbody tr th {\n",
       "        vertical-align: top;\n",
       "    }\n",
       "\n",
       "    .dataframe thead th {\n",
       "        text-align: right;\n",
       "    }\n",
       "</style>\n",
       "<table border=\"1\" class=\"dataframe\">\n",
       "  <thead>\n",
       "    <tr style=\"text-align: right;\">\n",
       "      <th></th>\n",
       "      <th>sentiment</th>\n",
       "      <th>Text</th>\n",
       "      <th>label</th>\n",
       "      <th>score</th>\n",
       "      <th>roberta_labels</th>\n",
       "      <th>roberta_list</th>\n",
       "    </tr>\n",
       "  </thead>\n",
       "  <tbody>\n",
       "    <tr>\n",
       "      <th>0</th>\n",
       "      <td>Positive</td>\n",
       "      <td>ZUKA ZAMA! 🇺🇸🇺🇸🇺🇸❤️🤍💙</td>\n",
       "      <td>LABEL_2</td>\n",
       "      <td>0.911870</td>\n",
       "      <td>Positive</td>\n",
       "      <td>{'label': 'LABEL_2', 'score': 0.9118700623512268}</td>\n",
       "    </tr>\n",
       "    <tr>\n",
       "      <th>1</th>\n",
       "      <td>Positive</td>\n",
       "      <td>Zip ties!</td>\n",
       "      <td>LABEL_1</td>\n",
       "      <td>0.639674</td>\n",
       "      <td>Positive</td>\n",
       "      <td>{'label': 'LABEL_1', 'score': 0.6396740078926086}</td>\n",
       "    </tr>\n",
       "    <tr>\n",
       "      <th>2</th>\n",
       "      <td>Positive</td>\n",
       "      <td>Zero sugar options would be nice as well</td>\n",
       "      <td>LABEL_2</td>\n",
       "      <td>0.885388</td>\n",
       "      <td>Positive</td>\n",
       "      <td>{'label': 'LABEL_2', 'score': 0.885388195514679}</td>\n",
       "    </tr>\n",
       "    <tr>\n",
       "      <th>3</th>\n",
       "      <td>Positive</td>\n",
       "      <td>Zendaya by cozz ft. J Cole 🐐</td>\n",
       "      <td>LABEL_1</td>\n",
       "      <td>0.668127</td>\n",
       "      <td>Positive</td>\n",
       "      <td>{'label': 'LABEL_1', 'score': 0.6681274175643921}</td>\n",
       "    </tr>\n",
       "    <tr>\n",
       "      <th>4</th>\n",
       "      <td>Positive</td>\n",
       "      <td>Zayunmmmm who are these people 🥵😍</td>\n",
       "      <td>LABEL_2</td>\n",
       "      <td>0.718290</td>\n",
       "      <td>Positive</td>\n",
       "      <td>{'label': 'LABEL_2', 'score': 0.7182900905609131}</td>\n",
       "    </tr>\n",
       "  </tbody>\n",
       "</table>\n",
       "</div>"
      ],
      "text/plain": [
       "  sentiment                                      Text    label     score  \\\n",
       "0  Positive                     ZUKA ZAMA! 🇺🇸🇺🇸🇺🇸❤️🤍💙  LABEL_2  0.911870   \n",
       "1  Positive                                 Zip ties!  LABEL_1  0.639674   \n",
       "2  Positive  Zero sugar options would be nice as well  LABEL_2  0.885388   \n",
       "3  Positive              Zendaya by cozz ft. J Cole 🐐  LABEL_1  0.668127   \n",
       "4  Positive         Zayunmmmm who are these people 🥵😍  LABEL_2  0.718290   \n",
       "\n",
       "  roberta_labels                                       roberta_list  \n",
       "0       Positive  {'label': 'LABEL_2', 'score': 0.9118700623512268}  \n",
       "1       Positive  {'label': 'LABEL_1', 'score': 0.6396740078926086}  \n",
       "2       Positive   {'label': 'LABEL_2', 'score': 0.885388195514679}  \n",
       "3       Positive  {'label': 'LABEL_1', 'score': 0.6681274175643921}  \n",
       "4       Positive  {'label': 'LABEL_2', 'score': 0.7182900905609131}  "
      ]
     },
     "execution_count": 33,
     "metadata": {},
     "output_type": "execute_result"
    }
   ],
   "source": [
    "df.head()"
   ]
  },
  {
   "cell_type": "code",
   "execution_count": 34,
   "id": "f12fbb4d",
   "metadata": {},
   "outputs": [],
   "source": [
    "df_split = df['roberta_list'].apply(pd.Series)\n",
    "df2 = pd.concat([df_split, df[\"roberta_list\"].apply(pd.Series)], axis=1)\n",
    "df['label']=df_split['label']\n",
    "df['score']=df_split['score']\n",
    "df=df[['sentiment', 'Text','label','score']]"
   ]
  },
  {
   "cell_type": "code",
   "execution_count": 35,
   "id": "29e4a8a3",
   "metadata": {},
   "outputs": [],
   "source": [
    "    \n",
    "## roberta labels without neutral class\n",
    "def label_detect(l):\n",
    "    if l == 'LABEL_0':\n",
    "        return 'Negative'\n",
    "    else:\n",
    "        return 'Positive'"
   ]
  },
  {
   "cell_type": "code",
   "execution_count": 36,
   "id": "6124dad2",
   "metadata": {},
   "outputs": [
    {
     "name": "stderr",
     "output_type": "stream",
     "text": [
      "/var/folders/lv/vs66hkx54hx22vp47_cc75wh0000gn/T/ipykernel_16882/3340709759.py:1: SettingWithCopyWarning: \n",
      "A value is trying to be set on a copy of a slice from a DataFrame.\n",
      "Try using .loc[row_indexer,col_indexer] = value instead\n",
      "\n",
      "See the caveats in the documentation: https://pandas.pydata.org/pandas-docs/stable/user_guide/indexing.html#returning-a-view-versus-a-copy\n",
      "  df['roberta_labels'] =df['label'].apply(label_detect)\n"
     ]
    }
   ],
   "source": [
    "df['roberta_labels'] =df['label'].apply(label_detect)"
   ]
  },
  {
   "cell_type": "code",
   "execution_count": 38,
   "id": "6f050a79",
   "metadata": {},
   "outputs": [
    {
     "data": {
      "text/plain": [
       "array([[ 1202,   409],\n",
       "       [  791, 27003]])"
      ]
     },
     "execution_count": 38,
     "metadata": {},
     "output_type": "execute_result"
    }
   ],
   "source": [
    "confusion_matrix(df['sentiment'],df['roberta_labels'])"
   ]
  },
  {
   "cell_type": "code",
   "execution_count": 40,
   "id": "612d389c",
   "metadata": {},
   "outputs": [
    {
     "name": "stdout",
     "output_type": "stream",
     "text": [
      "0.8226499291142533\n",
      "0.794095207661369\n",
      "0.8588305211879168\n"
     ]
    }
   ],
   "source": [
    "print(f1_score(df['sentiment'],df['roberta_labels'], average=\"macro\"))\n",
    "print(precision_score(df['sentiment'],df['roberta_labels'], average=\"macro\"))\n",
    "print(recall_score(df['sentiment'],df['roberta_labels'], average=\"macro\")) "
   ]
  },
  {
   "cell_type": "code",
   "execution_count": 45,
   "id": "a8bf34b8",
   "metadata": {},
   "outputs": [],
   "source": [
    "y_test= df['sentiment']\n",
    "y_pred= df['roberta_labels']"
   ]
  },
  {
   "cell_type": "code",
   "execution_count": 46,
   "id": "159e8132",
   "metadata": {},
   "outputs": [],
   "source": [
    "import numpy as np\n",
    "import matplotlib.pyplot as plt\n",
    "import seaborn as sns\n",
    "\n",
    "def make_confusion_matrix(cf,\n",
    "                          group_names=None,\n",
    "                          categories='auto',\n",
    "                          count=True,\n",
    "                          percent=True,\n",
    "                          cbar=True,\n",
    "                          xyticks=True,\n",
    "                          xyplotlabels=True,\n",
    "                          sum_stats=True,\n",
    "                          figsize=None,\n",
    "                          cmap='Blues',\n",
    "                          title=None):\n",
    "    '''\n",
    "    This function will make a pretty plot of an sklearn Confusion Matrix cm using a Seaborn heatmap visualization.\n",
    "    Arguments\n",
    "    ---------\n",
    "    cf:            confusion matrix to be passed in\n",
    "    group_names:   List of strings that represent the labels row by row to be shown in each square.\n",
    "    categories:    List of strings containing the categories to be displayed on the x,y axis. Default is 'auto'\n",
    "    count:         If True, show the raw number in the confusion matrix. Default is True.\n",
    "    normalize:     If True, show the proportions for each category. Default is True.\n",
    "    cbar:          If True, show the color bar. The cbar values are based off the values in the confusion matrix.\n",
    "                   Default is True.\n",
    "    xyticks:       If True, show x and y ticks. Default is True.\n",
    "    xyplotlabels:  If True, show 'True Label' and 'Predicted Label' on the figure. Default is True.\n",
    "    sum_stats:     If True, display summary statistics below the figure. Default is True.\n",
    "    figsize:       Tuple representing the figure size. Default will be the matplotlib rcParams value.\n",
    "    cmap:          Colormap of the values displayed from matplotlib.pyplot.cm. Default is 'Blues'\n",
    "                   See http://matplotlib.org/examples/color/colormaps_reference.html\n",
    "                   \n",
    "    title:         Title for the heatmap. Default is None.\n",
    "    '''\n",
    "\n",
    "\n",
    "    # CODE TO GENERATE TEXT INSIDE EACH SQUARE\n",
    "    blanks = ['' for i in range(cf.size)]\n",
    "\n",
    "    if group_names and len(group_names)==cf.size:\n",
    "        group_labels = [\"{}\\n\".format(value) for value in group_names]\n",
    "    else:\n",
    "        group_labels = blanks\n",
    "\n",
    "    if count:\n",
    "        group_counts = [\"{0:0.0f}\\n\".format(value) for value in cf.flatten()]\n",
    "    else:\n",
    "        group_counts = blanks\n",
    "\n",
    "\n",
    "    box_labels = [f\"{v1}{v2}\".strip() for v1, v2 in zip(group_labels,group_counts)]\n",
    "    box_labels = np.asarray(box_labels).reshape(cf.shape[0],cf.shape[1])\n",
    "\n",
    "\n",
    "    # CODE TO GENERATE SUMMARY STATISTICS & TEXT FOR SUMMARY STATS\n",
    "    if sum_stats:\n",
    "        #Accuracy is sum of diagonal divided by total observations\n",
    "        accuracy  = np.trace(cf) / float(np.sum(cf))\n",
    "\n",
    "        #if it is a binary confusion matrix, show some more stats\n",
    "        if len(cf)==2:\n",
    "            #Metrics for Binary Confusion Matrices\n",
    "            precision = cf[1,1] / sum(cf[:,1])\n",
    "            recall    = cf[1,1] / sum(cf[1,:])\n",
    "            f1_score  = 2*precision*recall / (precision + recall)\n",
    "            stats_text = \"\\n\\nAccuracy={:0.3f}\\nPrecision={:0.3f}\\nRecall={:0.3f}\\nF1 Score={:0.3f}\".format(\n",
    "                accuracy,precision,recall,f1_score)\n",
    "        else:\n",
    "            stats_text = \"\\n\\nAccuracy={:0.3f}\".format(accuracy)\n",
    "    else:\n",
    "        stats_text = \"\"\n",
    "\n",
    "\n",
    "    # SET FIGURE PARAMETERS ACCORDING TO OTHER ARGUMENTS\n",
    "    if figsize==None:\n",
    "        #Get default figure size if not set\n",
    "        figsize = plt.rcParams.get('figure.figsize')\n",
    "\n",
    "    if xyticks==False:\n",
    "        #Do not show categories if xyticks is False\n",
    "        categories=False\n",
    "\n",
    "\n",
    "    # MAKE THE HEATMAP VISUALIZATION\n",
    "    plt.figure(figsize=figsize)\n",
    "    sns.heatmap(cf,annot=box_labels,fmt=\"\",cmap='Blues',cbar=cbar,xticklabels=categories,yticklabels=categories)\n",
    "\n",
    "    if xyplotlabels:\n",
    "        plt.ylabel('True label')\n",
    "        plt.xlabel('Predicted label' + stats_text)\n",
    "    else:\n",
    "        plt.xlabel(stats_text)\n",
    "    \n",
    "    if title:\n",
    "        plt.title(title)\n",
    "\n",
    "\n"
   ]
  },
  {
   "cell_type": "code",
   "execution_count": 47,
   "id": "21395731",
   "metadata": {},
   "outputs": [
    {
     "name": "stdout",
     "output_type": "stream",
     "text": [
      "[[ 1202   409]\n",
      " [  791 27003]]\n"
     ]
    }
   ],
   "source": [
    "\n",
    "#Get the confusion matrix\n",
    "cf_matrix = confusion_matrix(y_test, y_pred)\n",
    "print(cf_matrix)\n"
   ]
  },
  {
   "cell_type": "code",
   "execution_count": 48,
   "id": "f30b3afa",
   "metadata": {},
   "outputs": [
    {
     "data": {
      "image/png": "[encoded data removed]",
      "text/plain": [
       "<Figure size 640x480 with 2 Axes>"
      ]
     },
     "metadata": {},
     "output_type": "display_data"
    }
   ],
   "source": [
    "labels = ['TN','FP','FN','TP']\n",
    "categories = [\"0\", \"1\"]\n",
    "make_confusion_matrix(cf_matrix, \n",
    "                      group_names=labels,\n",
    "                      categories=categories, \n",
    "                      cmap='binary')"
   ]
  },
  {
   "cell_type": "code",
   "execution_count": 49,
   "id": "828467c2",
   "metadata": {},
   "outputs": [
    {
     "name": "stdout",
     "output_type": "stream",
     "text": [
      "              precision    recall  f1-score   support\n",
      "\n",
      "    Negative       0.60      0.75      0.67      1611\n",
      "    Positive       0.99      0.97      0.98     27794\n",
      "\n",
      "    accuracy                           0.96     29405\n",
      "   macro avg       0.79      0.86      0.82     29405\n",
      "weighted avg       0.96      0.96      0.96     29405\n",
      "\n"
     ]
    }
   ],
   "source": [
    "print(classification_report(df['sentiment'],df['roberta_labels']))\n"
   ]
  },
  {
   "cell_type": "code",
   "execution_count": null,
   "id": "9176ea3a",
   "metadata": {},
   "outputs": [],
   "source": []
  }
 ],
 "metadata": {
  "kernelspec": {
   "display_name": "Python 3 (ipykernel)",
   "language": "python",
   "name": "python3"
  },
  "language_info": {
   "codemirror_mode": {
    "name": "ipython",
    "version": 3
   },
   "file_extension": ".py",
   "mimetype": "text/x-python",
   "name": "python",
   "nbconvert_exporter": "python",
   "pygments_lexer": "ipython3",
   "version": "3.9.12"
  }
 },
 "nbformat": 4,
 "nbformat_minor": 5
}
